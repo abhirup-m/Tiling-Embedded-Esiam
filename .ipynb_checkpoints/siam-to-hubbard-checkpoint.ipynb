{
 "cells": [
  {
   "cell_type": "code",
   "execution_count": 1,
   "metadata": {},
   "outputs": [
    {
     "name": "stderr",
     "output_type": "stream",
     "text": [
      "/home/abhirup/.local/lib/python3.9/site-packages/qutip/configrc.py:326: UserWarning: Invalid qutip config variable in qutiprc: num_cpus\n",
      "  warnings.warn(\"Invalid qutip config variable in qutiprc: \"\n"
     ]
    }
   ],
   "source": [
    "import numpy as np\n",
    "from tqdm import tqdm\n",
    "from math import sqrt,exp\n",
    "import matplotlib\n",
    "from matplotlib import pyplot as plt\n",
    "from multiprocessing import Pool\n",
    "from itertools import product\n",
    "from itertools import combinations\n",
    "from qutip import *\n",
    "settings.num_cpus = 100\n",
    "font = {'size'   : 17}\n",
    "matplotlib.rc('font', **font)\n",
    "matplotlib.rcParams['text.usetex'] = True\n",
    "plt.rcParams[\"figure.figsize\"]= 7, 4\n",
    "# plt.rcParams['figure.dpi'] = 60\n",
    "matplotlib.rcParams['lines.linewidth'] = 2\n",
    "plt.rcParams['axes.grid'] = True"
   ]
  },
  {
   "cell_type": "markdown",
   "metadata": {},
   "source": [
    "# Hubbard Dimer to Hubbard Model\n",
    "\n",
    "## Steps\n",
    "\n",
    "- Define the lattice of parent Hubbard model: $\\left\\{k, \\xi_k\\right\\}$\n",
    "- Obtain $t, U$ for $\\tilde H$. Stored in the variables ```tp``` and ```Up``` here. Also define the dimer parameters ```td, Ud```\n",
    "- Choose test Hamiltonian from which to calculate groundstate wavefunction. This model should be close to $\\tilde H$, so it will be defined by the parameters ```tp, Up```\n",
    "- Calculate groundstate $|\\tilde \\Phi_0\\rangle$ and energy of ground state $E_0$, using exact diagonalization.\n",
    "- Define the orthonormal basis $\\{|n\\rangle\\}$. The dimer part (defined by ```td, Ud```) gives the set of eigenvalues $E_n$\n",
    "- Calculate $C^i_n = \\langle n |c^\\dagger_{0 \\sigma}|\\tilde \\Phi_0\\rangle $, hence $\\lambda_n$, and the energy cost $\\Delta_n = E_n - E_0$.\n",
    "- With $\\lambda_n$ and $\\Delta_n$ at hand, calculate spectral function using the formula: \n",
    "$$\n",
    "A(k, \\omega) = \\frac{2}{N}\\sum_n \\left[ \\lambda_n \\delta(\\omega - \\Delta_n) + \\overline\\lambda_n \\delta(\\omega + \\Delta_n)\\right]\\\\\n",
    "\\lambda_n = |C^0_{n}|^2 + \\frac{\\xi_{\\vec{k}}}{w}{C^0_{n}}^* C^1_{n}, ~~~\\overline\\lambda_n = |\\overline C^0_{n}|^2 + \\frac{\\xi_{\\vec{k}}}{w}{\\overline C^0_{n}}^* \\overline C^1_{n}\n",
    "$$\n"
   ]
  },
  {
   "cell_type": "markdown",
   "metadata": {},
   "source": [
    "## Parent Hubbard Model\n",
    "\n",
    "$$\n",
    "D = \\text{ dimension }\\\\\n",
    "N = \\text{number of sites}\\\\\n",
    "w = \\text{coordination number}\\\\\n",
    "\\{a_i k^n_i\\} = \\frac{2\\pi n}{N}\\\\\n",
    "\\xi_{\\vec k} = \\sum_{i=1}^D 2\\cos(a_i k_i) \\text{  for hypercubic lattice}\n",
    "$$ "
   ]
  },
  {
   "cell_type": "code",
   "execution_count": 2,
   "metadata": {},
   "outputs": [],
   "source": [
    "def define_Hub(N=3, w=2, dim=1, a=1):\n",
    "    k_arr = list(product(*[2 * np.pi * np.arange(N) / (N * a) for i in range(dim)]))\n",
    "    if dim == 1:\n",
    "        k_arr = [k[0] for k in k_arr]\n",
    "    xi = []\n",
    "    for k in k_arr:\n",
    "        xi_k = 0\n",
    "        k = [k] if dim == 1 else k\n",
    "        for i in range(dim):\n",
    "            xi_k += 2*np.cos(k[i]*a)\n",
    "        xi.append(xi_k)\n",
    "    xi = np.array(xi)\n",
    "    return k_arr, xi"
   ]
  },
  {
   "cell_type": "markdown",
   "metadata": {},
   "source": [
    "## Test Hamiltonian\n",
    "$N_k = \\sum_k$1\n",
    "\n",
    "$H = \\sum_{k\\sigma}\\epsilon_k \\tau_{k\\sigma} + U^D\\left(\\tau_{0\\uparrow}\\tau_{0\\downarrow} + \\tau_{1\\uparrow}\\tau_{1\\downarrow}\\right) - t^D\\sum_\\sigma\\left(c^\\dagger_{0\\sigma}c_{1\\sigma} + \\text{h.c.}\\right) - \\frac{1}{\\sqrt N_k}t^D\\sum_{\\sigma, k=k_1}^{k_{N-2}}\\left(c^\\dagger_{0\\sigma}c_{k\\sigma} + c^\\dagger_{1\\sigma}c_{k\\sigma} + \\text{h.c.}\\right)$\n",
    "\n",
    "Notation for Hamiltonian: $k_1 \\uparrow k_1 \\downarrow, k_2 \\uparrow, ... k_N \\uparrow k_N \\downarrow$"
   ]
  },
  {
   "cell_type": "code",
   "execution_count": 3,
   "metadata": {},
   "outputs": [],
   "source": [
    "def ham_u(U, t, Ek):\n",
    "    Nk = len(Ek)\n",
    "    tau = create(2)*destroy(2) - 0.5\n",
    "    H_u = U*(tensor([tau, tau] + [identity(2)]*2*(1 + Nk)) + tensor([identity(2)]*2 + [tau, tau]+ [identity(2)]*2*Nk))\n",
    "    return H_u\n",
    "\n",
    "\n",
    "def ham_t_1(U, t, Ek):\n",
    "    Nk = len(Ek)\n",
    "    tau = create(2)*destroy(2) - 0.5\n",
    "    H_t_1_up = tensor([create(2), identity(2), destroy(2), identity(2)] + [identity(2)]*2*Nk)\n",
    "    H_t_1_dn = tensor([identity(2), create(2), identity(2), destroy(2)] + [identity(2)]*2*Nk)\n",
    "    H_t_1 = -t*((H_t_1_up + H_t_1_dn) + (H_t_1_up + H_t_1_dn).dag())\n",
    "    return H_t_1\n",
    "\n",
    "\n",
    "def ham_t_2(U, t, Ek):\n",
    "    Nk = len(Ek)\n",
    "    tau = create(2)*destroy(2) - 0.5\n",
    "    H_t_2_up = 0\n",
    "    H_t_2_dn = 0\n",
    "    for k in range(len(Ek)):\n",
    "        H_t_2_up += tensor([create(2), identity(2)] + [identity(2)]*2*(1+k) + [destroy(2), identity(2)] + [identity(2)]*2*(len(Ek)- k - 1))\n",
    "        H_t_2_dn += tensor([identity(2), create(2)] + [identity(2)]*2*(1+k) + [identity(2), destroy(2)] + [identity(2)]*2*(len(Ek)- k - 1))\n",
    "    H_t_2 = (-t/sqrt(Nk))*((H_t_2_up + H_t_2_dn) + (H_t_2_up + H_t_2_dn).dag())\n",
    "    return H_t_2\n",
    "\n",
    "\n",
    "def ham_k(U, t, Ek):\n",
    "    Nk = len(Ek)\n",
    "    tau = create(2)*destroy(2) - 0.5\n",
    "    H_k_up = 0\n",
    "    H_k_dn = 0\n",
    "    for k in range(len(Ek)):\n",
    "        H_k_up += Ek[k]*(tensor([identity(2)]*2*(2+k) + [tau, identity(2)] + [identity(2)]*2*(len(Ek)- k - 1)))\n",
    "        H_k_dn += Ek[k]*(tensor([identity(2)]*2*(2+k) + [identity(2), tau] + [identity(2)]*2*(len(Ek)- k - 1)))\n",
    "    H_k = H_k_up + H_k_dn + (H_k_up + H_k_dn).dag()\n",
    "    return H_k\n",
    "\n",
    "def get_ham_dim_bath(U, t, Ek):\n",
    "    H_k = ham_k(U, t, Ek)\n",
    "    H_u = ham_u(U, t, Ek)\n",
    "    H_t_1 = ham_t_1(U, t, Ek)\n",
    "    H_t_2 = ham_t_2(U, t, Ek)\n",
    "    return H_k + H_u + H_t_1 + H_t_2"
   ]
  },
  {
   "cell_type": "markdown",
   "metadata": {},
   "source": [
    "## Ground state wavefunction (and eigenvalue)"
   ]
  },
  {
   "cell_type": "code",
   "execution_count": 4,
   "metadata": {},
   "outputs": [],
   "source": [
    "def gstate(H):\n",
    "    E0, X0 = H.groundstate()\n",
    "    return E0, X0"
   ]
  },
  {
   "cell_type": "markdown",
   "metadata": {},
   "source": [
    "## Orthonormal basis"
   ]
  },
  {
   "cell_type": "code",
   "execution_count": 5,
   "metadata": {},
   "outputs": [],
   "source": [
    "def get_n_En(Ud, td, Ek_bath):\n",
    "    H_k = ham_k(Ud, td, Ek_bath)\n",
    "    H_u = ham_u(Ud, td, Ek_bath)\n",
    "    H_t_1 = ham_t_1(Ud, td, Ek_bath)\n",
    "    H_t_2 = ham_t_2(Ud, td, Ek_bath)\n",
    "    dimer_bath_discon = H_k + H_u + H_t_1\n",
    "    E, Xn = dimer_bath_discon.eigenstates()\n",
    "    only_dimer =  ham_u(Ud, td, []) + ham_t_1(Ud, td, [])\n",
    "    En = only_dimer.eigenenergies()\n",
    "    return En, Xn"
   ]
  },
  {
   "cell_type": "markdown",
   "metadata": {},
   "source": [
    "## Coefficients"
   ]
  },
  {
   "cell_type": "code",
   "execution_count": 6,
   "metadata": {},
   "outputs": [],
   "source": [
    "def get_lambda_delta(En, Xn, E0, X0, xi_k, w):\n",
    "    N = len(X0.dims[0])\n",
    "    cdag0 = tensor([create(2), identity(2)] + [identity(2)]*(N-2))\n",
    "    cdag1 = tensor([identity(2)]*2 + [create(2), identity(2)] + [identity(2)]*(N-4))\n",
    "    c0 = tensor([destroy(2), identity(2)] + [identity(2)]*(N-2))\n",
    "    c1 = tensor([identity(2)]*2 + [destroy(2), identity(2)] + [identity(2)]*(N-4))\n",
    "    delta_n = [E_n - E0 for E_n in En]\n",
    "    C0 = np.array([(X_n.dag() * cdag0 * X0)[0][0][0] for X_n in Xn])\n",
    "    C1 = np.array([(X_n.dag() * cdag1 * X0)[0][0][0] for X_n in Xn])\n",
    "    C0_ = np.array([(X_n.dag() * c0 * X0)[0][0][0] for X_n in Xn])\n",
    "    C1_ = np.array([(X_n.dag() * c1 * X0)[0][0][0] for X_n in Xn])\n",
    "    lambda_n = np.real(C0*C0.conjugate() + (xi_k/w)*C0.conjugate()*C1)\n",
    "    lambda_n_ = np.real(C0_*C0_.conjugate() + (xi_k/w)*C0_.conjugate()*C1_)\n",
    "    return lambda_n, lambda_n_, delta_n"
   ]
  },
  {
   "cell_type": "markdown",
   "metadata": {},
   "source": [
    "## Spectral function $A(k,\\omega)$"
   ]
  },
  {
   "cell_type": "code",
   "execution_count": 7,
   "metadata": {},
   "outputs": [],
   "source": [
    "def spec_func_k(N, delta_n, lambda_n, lambda_n_, w_range):\n",
    "\n",
    "    def gauss(x):\n",
    "        eta = 0.4\n",
    "        return exp(-(x/eta)**2)/(eta*sqrt(np.pi))\n",
    "\n",
    "\n",
    "    Ak = []\n",
    "    for w in w_range:\n",
    "        Ak.append(sum([lambdan * gauss(w - deltan) + lambdan_ * gauss(w + deltan) for deltan,lambdan,lambdan_ in zip(delta_n, lambda_n, lambda_n_)])*2/N)\n",
    "    return np.array(Ak)"
   ]
  },
  {
   "cell_type": "code",
   "execution_count": 8,
   "metadata": {},
   "outputs": [],
   "source": [
    "def get_max(A, w_range):\n",
    "    w_max = []\n",
    "    A_max = []\n",
    "    for i in range(1, len(A)-1):\n",
    "        if A[i-1] < A[i] and A[i+1] < A[i]:\n",
    "            print (w_range[i])\n",
    "            A_max.append(A[i])\n",
    "            w_max.append(w_range[i])\n",
    "    return w_max, A_max"
   ]
  },
  {
   "cell_type": "markdown",
   "metadata": {},
   "source": [
    "## Manager"
   ]
  },
  {
   "cell_type": "code",
   "execution_count": 9,
   "metadata": {},
   "outputs": [
    {
     "name": "stdout",
     "output_type": "stream",
     "text": [
      "ED done\n",
      "ED done\n",
      "ED done\n",
      "ED done\n"
     ]
    },
    {
     "data": {
      "image/png": "[encoded data removed]",
      "text/plain": [
       "<Figure size 432x1440 with 4 Axes>"
      ]
     },
     "metadata": {
      "needs_background": "light"
     },
     "output_type": "display_data"
    }
   ],
   "source": [
    "N=4\n",
    "w=2\n",
    "dim=1\n",
    "a=1\n",
    "k_arr, xi = define_Hub(N, w, dim, a)\n",
    "xi_k = xi[1]\n",
    "fig, ax = plt.subplots(4, figsize=(6,20))\n",
    "i = 0\n",
    "for U in [0.001, 0.01, 0.1, 0.5]:\n",
    "    t = 0.1\n",
    "    Ud = N * U\n",
    "    td = N * t\n",
    "    Up = 2 * Ud / N\n",
    "    tp = 2 * td / (N * w)\n",
    "    Nk = 2\n",
    "    k_bath = 2*np.pi*np.arange(Nk)/((Nk)*a)\n",
    "    Ek_bath = -2*td*np.cos(k_bath*a)\n",
    "    H_dim_bath = get_ham_dim_bath(Up, tp, Ek_bath)\n",
    "    E0, X0 = gstate(H_dim_bath)\n",
    "    En, Xn = get_n_En(Ud, td, Ek_bath)\n",
    "    print (\"ED done\")\n",
    "    lambda_n, lambda_n_, delta_n = get_lambda_delta(En, Xn, E0, X0, xi_k, w)\n",
    "    w_range = np.arange(-5, 5, 0.001)\n",
    "    Ak = spec_func_k(N, delta_n, lambda_n, lambda_n_, w_range)\n",
    "    ax[i].plot(w_range, Ak, label=r\"$U/t = {}$\".format(U/t))\n",
    "    ax[i].set_ylabel(r\"$A(k=0,\\omega)$\")\n",
    "    ax[i].legend()\n",
    "    i += 1\n",
    "\n",
    "plt.suptitle(r\"$N_k = {}$\".format(Nk), y=0.9)\n",
    "plt.show()"
   ]
  },
  {
   "cell_type": "markdown",
   "metadata": {},
   "source": [
    "## Spectral function of Dimer in Bath from ED\n",
    "\n",
    "### Broadening with no $\\omega-$dependence"
   ]
  },
  {
   "cell_type": "code",
   "execution_count": 10,
   "metadata": {},
   "outputs": [
    {
     "name": "stdout",
     "output_type": "stream",
     "text": [
      "ED Done\n"
     ]
    },
    {
     "name": "stderr",
     "output_type": "stream",
     "text": [
      "100%|██████████| 300/300 [00:27<00:00, 10.84it/s]\n"
     ]
    },
    {
     "data": {
      "image/png": "[encoded data removed]",
      "text/plain": [
       "<Figure size 504x288 with 1 Axes>"
      ]
     },
     "metadata": {
      "needs_background": "light"
     },
     "output_type": "display_data"
    },
    {
     "name": "stdout",
     "output_type": "stream",
     "text": [
      "ED Done\n"
     ]
    },
    {
     "name": "stderr",
     "output_type": "stream",
     "text": [
      "100%|██████████| 300/300 [00:27<00:00, 11.03it/s]\n"
     ]
    },
    {
     "data": {
      "image/png": "[encoded data removed]",
      "text/plain": [
       "<Figure size 504x288 with 1 Axes>"
      ]
     },
     "metadata": {
      "needs_background": "light"
     },
     "output_type": "display_data"
    }
   ],
   "source": [
    "def rho_at_w(args):\n",
    "    (En, Xn), Xgs, w, t = args\n",
    "    # eta = 2*t**2/sqrt(t**2 + U**2/16)\n",
    "    eta = 2*t/sqrt(1 + U**3/t**3)\n",
    "    N = len(Xgs.dims[0])\n",
    "    Z = len(X0)\n",
    "    Egs = E[0]\n",
    "    c0_up = tensor([destroy(2), identity(2)] + [identity(2)]*(N-2))\n",
    "    C1 = Xgs.dag()*c0_up*Xn\n",
    "    C1_sq = np.real((C1*C1.dag())[0][0][0])\n",
    "    C2 = Xn.dag()*c0_up*Xgs\n",
    "    C2_sq = np.real((C2*C2.dag())[0][0][0])\n",
    "    x1 = w + Egs - En\n",
    "    x2 = w + En - Egs\n",
    "    return (C1_sq * exp(-(x1/eta)**2)/(eta*sqrt(np.pi)) + C2_sq * exp(-(x2/eta)**2)/(eta*sqrt(np.pi))) / Z\n",
    "\n",
    "for U in [0.001, 0.01]:\n",
    "    t = 0.01\n",
    "    Nk = 2\n",
    "    a = 1\n",
    "    k_bath = 2*np.pi*np.arange(Nk)/((Nk)*a)\n",
    "    Ek_bath = -2*t*np.cos(k_bath*a)\n",
    "    H_dim_bath = get_ham_dim_bath(U, t, Ek_bath)\n",
    "    E, X = H_dim_bath.eigenstates()\n",
    "    print (\"ED Done\")\n",
    "    E0 = E[np.where(E == min(E))]\n",
    "    X0 = X[np.where(E == min(E))]\n",
    "    Z = len(E0)\n",
    "    exc = zip(E[1:], X[1:])\n",
    "    gs = X0\n",
    "    rho = []\n",
    "    w_range = np.linspace(-10, 10, 300, endpoint=True)*t\n",
    "    for w in tqdm(w_range):\n",
    "        rho_w = sum(Pool(processes=5).map(rho_at_w, product(zip(E[1:], X[1:]), X0, [w], [t])))\n",
    "        rho.append(rho_w)\n",
    "    rho = np.array(rho)\n",
    "    plt.plot(w_range, rho)\n",
    "    # plt.scatter(w_range[np.where(rho>10**(-10))], rho[np.where(rho>10**(-10))], marker=\".\")\n",
    "    plt.ylabel(r\"$A_{00}(\\omega)$\")\n",
    "    # for x in np.linspace(-12, 12, 10, endpoint=True)*t:\n",
    "    #     plt.axvline(x, 0, 1, ls=\"--\")\n",
    "    plt.title(r\"$U={}, t={}$\".format(U, t))\n",
    "    plt.show()"
   ]
  },
  {
   "cell_type": "markdown",
   "metadata": {},
   "source": [
    "### Broadening with $\\omega-$dependence"
   ]
  },
  {
   "cell_type": "code",
   "execution_count": 11,
   "metadata": {},
   "outputs": [
    {
     "name": "stdout",
     "output_type": "stream",
     "text": [
      "ED Done\n"
     ]
    },
    {
     "name": "stderr",
     "output_type": "stream",
     "text": [
      "100%|██████████| 200/200 [00:18<00:00, 10.57it/s]\n"
     ]
    },
    {
     "data": {
      "image/png": "[encoded data removed]",
      "text/plain": [
       "<Figure size 504x288 with 1 Axes>"
      ]
     },
     "metadata": {
      "needs_background": "light"
     },
     "output_type": "display_data"
    }
   ],
   "source": [
    "def rho_at_w(args):\n",
    "    (En, Xn), Xgs, w, t = args\n",
    "    eta = 2*t**2/sqrt(t**2 + sqrt(U)*w**2/sqrt(t))\n",
    "    # eta = 2*t*(1 + w**2/t**2)\n",
    "    N = len(Xgs.dims[0])\n",
    "    Z = len(X0)\n",
    "    Egs = E[0]\n",
    "    c0_up = tensor([destroy(2), identity(2)] + [identity(2)]*(N-2))\n",
    "    C1 = Xgs.dag()*c0_up*Xn\n",
    "    C1_sq = np.real((C1*C1.dag())[0][0][0])\n",
    "    C2 = Xn.dag()*c0_up*Xgs\n",
    "    C2_sq = np.real((C2*C2.dag())[0][0][0])\n",
    "    x1 = w + Egs - En\n",
    "    x2 = w + En - Egs\n",
    "    return (C1_sq * exp(-(x1/eta)**2)/(eta*sqrt(np.pi)) + C2_sq * exp(-(x2/eta)**2)/(eta*sqrt(np.pi))) / Z\n",
    "\n",
    "for U in [6]:\n",
    "    t = 0.01\n",
    "    Nk = 2\n",
    "    a = 1\n",
    "    k_bath = 2*np.pi*np.arange(Nk)/((Nk)*a)\n",
    "    Ek_bath = -2*t*np.cos(k_bath*a)\n",
    "    H_dim_bath = get_ham_dim_bath(U, t, Ek_bath)\n",
    "    E, X = H_dim_bath.eigenstates()\n",
    "    print (\"ED Done\")\n",
    "    E0 = E[np.where(E == min(E))]\n",
    "    X0 = X[np.where(E == min(E))]\n",
    "    Z = len(E0)\n",
    "    exc = zip(E[1:], X[1:])\n",
    "    gs = X0\n",
    "    rho = []\n",
    "    w_range = np.linspace(-10, 10, 200, endpoint=True)*t\n",
    "    for w in tqdm(w_range):\n",
    "        rho_w = sum(Pool(processes=5).map(rho_at_w, product(zip(E[1:], X[1:]), X0, [w], [t])))\n",
    "        rho.append(rho_w)\n",
    "    rho = np.array(rho)\n",
    "    plt.scatter(w_range[np.where(rho>10**(-10))], rho[np.where(rho>10**(-10))], marker=\".\")\n",
    "    plt.ylabel(r\"$A_{00}(\\omega)$\")\n",
    "    plt.title(r\"$U={}, t={}$\".format(U, t))\n",
    "    plt.show()"
   ]
  },
  {
   "cell_type": "markdown",
   "metadata": {},
   "source": [
    "# 1D chain"
   ]
  },
  {
   "cell_type": "code",
   "execution_count": 12,
   "metadata": {},
   "outputs": [],
   "source": [
    "def hopping(t, N):\n",
    "    H = 0\n",
    "    for i in range(N):\n",
    "        if i < N-1:\n",
    "            H += -t*tensor([identity(2)]*2*i + [create(2), identity(2), destroy(2), identity(2)] + [identity(2)]*2*(N-i-2))\n",
    "            H -= -t*tensor([identity(2)]*2*i + [destroy(2), identity(2), create(2), identity(2)] + [identity(2)]*2*(N-i-2))\n",
    "            H += -t*tensor([identity(2)]*2*i + [identity(2), create(2), identity(2), destroy(2)] + [identity(2)]*2*(N-i-2))\n",
    "            H -= -t*tensor([identity(2)]*2*i + [identity(2), destroy(2), identity(2), create(2)] + [identity(2)]*2*(N-i-2))\n",
    "        else:\n",
    "            H += -t*tensor([create(2), identity(2)] + [identity(2)]*2*(N-2) + [destroy(2), identity(2)])\n",
    "            H -= -t*tensor([destroy(2), identity(2)] + [identity(2)]*2*(N-2) + [create(2), identity(2)])\n",
    "            H += -t*tensor([identity(2), create(2)] + [identity(2)]*2*(N-2) + [identity(2), destroy(2)])\n",
    "            H -= -t*tensor([identity(2), destroy(2)] + [identity(2)]*2*(N-2) + [identity(2), create(2)])\n",
    "    return H\n",
    "\n",
    "\n",
    "def onsite(U, N):\n",
    "    H = 0\n",
    "    for i in range(N):\n",
    "        H += U*tensor([identity(2)]*2*i + [create(2)*destroy(2) - 0.5, create(2)*destroy(2) - 0.5] + [identity(2)]*2*(N - i - 1))\n",
    "    return H"
   ]
  },
  {
   "cell_type": "code",
   "execution_count": 15,
   "metadata": {},
   "outputs": [
    {
     "name": "stderr",
     "output_type": "stream",
     "text": [
      "  0%|          | 0/5 [00:12<?, ?it/s]Process ForkPoolWorker-4041:\n",
      "Process ForkPoolWorker-4037:\n",
      "Process ForkPoolWorker-4034:\n",
      "Traceback (most recent call last):\n",
      "Process ForkPoolWorker-4039:\n",
      "\n",
      "  File \"/home/abhirup/miniconda3/lib/python3.9/multiprocessing/process.py\", line 315, in _bootstrap\n",
      "    self.run()\n",
      "Traceback (most recent call last):\n",
      "Traceback (most recent call last):\n",
      "Traceback (most recent call last):\n"
     ]
    },
    {
     "ename": "KeyboardInterrupt",
     "evalue": "",
     "output_type": "error",
     "traceback": [
      "\u001b[0;31m---------------------------------------------------------------------------\u001b[0m",
      "\u001b[0;31mKeyboardInterrupt\u001b[0m                         Traceback (most recent call last)",
      "\u001b[0;32m/tmp/ipykernel_709496/4168032075.py\u001b[0m in \u001b[0;36m<module>\u001b[0;34m\u001b[0m\n\u001b[1;32m     35\u001b[0m \u001b[0;34m\u001b[0m\u001b[0m\n\u001b[1;32m     36\u001b[0m \u001b[0;31m#     A = sum(tqdm(Pool(50).map(get_rho_X, product(zip(E, X), X0)), total=len(X0)*len(E)))\u001b[0m\u001b[0;34m\u001b[0m\u001b[0;34m\u001b[0m\u001b[0m\n\u001b[0;32m---> 37\u001b[0;31m     \u001b[0mpoles\u001b[0m \u001b[0;34m=\u001b[0m \u001b[0mlist\u001b[0m\u001b[0;34m(\u001b[0m\u001b[0mset\u001b[0m\u001b[0;34m(\u001b[0m\u001b[0mPool\u001b[0m\u001b[0;34m(\u001b[0m\u001b[0;34m)\u001b[0m\u001b[0;34m.\u001b[0m\u001b[0mmap\u001b[0m\u001b[0;34m(\u001b[0m\u001b[0mget_rho_X\u001b[0m\u001b[0;34m,\u001b[0m \u001b[0mproduct\u001b[0m\u001b[0;34m(\u001b[0m\u001b[0mzip\u001b[0m\u001b[0;34m(\u001b[0m\u001b[0mE\u001b[0m\u001b[0;34m,\u001b[0m \u001b[0mX\u001b[0m\u001b[0;34m)\u001b[0m\u001b[0;34m,\u001b[0m \u001b[0mX0\u001b[0m\u001b[0;34m)\u001b[0m\u001b[0;34m)\u001b[0m\u001b[0;34m)\u001b[0m\u001b[0;34m)\u001b[0m\u001b[0;34m\u001b[0m\u001b[0;34m\u001b[0m\u001b[0m\n\u001b[0m\u001b[1;32m     38\u001b[0m     \u001b[0mprint\u001b[0m \u001b[0;34m(\u001b[0m\u001b[0mU\u001b[0m\u001b[0;34m,\u001b[0m \u001b[0mmin\u001b[0m\u001b[0;34m(\u001b[0m\u001b[0mpoles\u001b[0m\u001b[0;34m)\u001b[0m\u001b[0;34m)\u001b[0m\u001b[0;34m\u001b[0m\u001b[0;34m\u001b[0m\u001b[0m\n\u001b[1;32m     39\u001b[0m \u001b[0;34m\u001b[0m\u001b[0m\n",
      "\u001b[0;32m~/miniconda3/lib/python3.9/multiprocessing/pool.py\u001b[0m in \u001b[0;36mmap\u001b[0;34m(self, func, iterable, chunksize)\u001b[0m\n\u001b[1;32m    362\u001b[0m         \u001b[0;32min\u001b[0m \u001b[0ma\u001b[0m \u001b[0mlist\u001b[0m \u001b[0mthat\u001b[0m \u001b[0;32mis\u001b[0m \u001b[0mreturned\u001b[0m\u001b[0;34m.\u001b[0m\u001b[0;34m\u001b[0m\u001b[0;34m\u001b[0m\u001b[0m\n\u001b[1;32m    363\u001b[0m         '''\n\u001b[0;32m--> 364\u001b[0;31m         \u001b[0;32mreturn\u001b[0m \u001b[0mself\u001b[0m\u001b[0;34m.\u001b[0m\u001b[0m_map_async\u001b[0m\u001b[0;34m(\u001b[0m\u001b[0mfunc\u001b[0m\u001b[0;34m,\u001b[0m \u001b[0miterable\u001b[0m\u001b[0;34m,\u001b[0m \u001b[0mmapstar\u001b[0m\u001b[0;34m,\u001b[0m \u001b[0mchunksize\u001b[0m\u001b[0;34m)\u001b[0m\u001b[0;34m.\u001b[0m\u001b[0mget\u001b[0m\u001b[0;34m(\u001b[0m\u001b[0;34m)\u001b[0m\u001b[0;34m\u001b[0m\u001b[0;34m\u001b[0m\u001b[0m\n\u001b[0m\u001b[1;32m    365\u001b[0m \u001b[0;34m\u001b[0m\u001b[0m\n\u001b[1;32m    366\u001b[0m     \u001b[0;32mdef\u001b[0m \u001b[0mstarmap\u001b[0m\u001b[0;34m(\u001b[0m\u001b[0mself\u001b[0m\u001b[0;34m,\u001b[0m \u001b[0mfunc\u001b[0m\u001b[0;34m,\u001b[0m \u001b[0miterable\u001b[0m\u001b[0;34m,\u001b[0m \u001b[0mchunksize\u001b[0m\u001b[0;34m=\u001b[0m\u001b[0;32mNone\u001b[0m\u001b[0;34m)\u001b[0m\u001b[0;34m:\u001b[0m\u001b[0;34m\u001b[0m\u001b[0;34m\u001b[0m\u001b[0m\n",
      "\u001b[0;32m~/miniconda3/lib/python3.9/multiprocessing/pool.py\u001b[0m in \u001b[0;36mget\u001b[0;34m(self, timeout)\u001b[0m\n\u001b[1;32m    763\u001b[0m \u001b[0;34m\u001b[0m\u001b[0m\n\u001b[1;32m    764\u001b[0m     \u001b[0;32mdef\u001b[0m \u001b[0mget\u001b[0m\u001b[0;34m(\u001b[0m\u001b[0mself\u001b[0m\u001b[0;34m,\u001b[0m \u001b[0mtimeout\u001b[0m\u001b[0;34m=\u001b[0m\u001b[0;32mNone\u001b[0m\u001b[0;34m)\u001b[0m\u001b[0;34m:\u001b[0m\u001b[0;34m\u001b[0m\u001b[0;34m\u001b[0m\u001b[0m\n\u001b[0;32m--> 765\u001b[0;31m         \u001b[0mself\u001b[0m\u001b[0;34m.\u001b[0m\u001b[0mwait\u001b[0m\u001b[0;34m(\u001b[0m\u001b[0mtimeout\u001b[0m\u001b[0;34m)\u001b[0m\u001b[0;34m\u001b[0m\u001b[0;34m\u001b[0m\u001b[0m\n\u001b[0m\u001b[1;32m    766\u001b[0m         \u001b[0;32mif\u001b[0m \u001b[0;32mnot\u001b[0m \u001b[0mself\u001b[0m\u001b[0;34m.\u001b[0m\u001b[0mready\u001b[0m\u001b[0;34m(\u001b[0m\u001b[0;34m)\u001b[0m\u001b[0;34m:\u001b[0m\u001b[0;34m\u001b[0m\u001b[0;34m\u001b[0m\u001b[0m\n\u001b[1;32m    767\u001b[0m             \u001b[0;32mraise\u001b[0m \u001b[0mTimeoutError\u001b[0m\u001b[0;34m\u001b[0m\u001b[0;34m\u001b[0m\u001b[0m\n",
      "\u001b[0;32m~/miniconda3/lib/python3.9/multiprocessing/pool.py\u001b[0m in \u001b[0;36mwait\u001b[0;34m(self, timeout)\u001b[0m\n\u001b[1;32m    760\u001b[0m \u001b[0;34m\u001b[0m\u001b[0m\n\u001b[1;32m    761\u001b[0m     \u001b[0;32mdef\u001b[0m \u001b[0mwait\u001b[0m\u001b[0;34m(\u001b[0m\u001b[0mself\u001b[0m\u001b[0;34m,\u001b[0m \u001b[0mtimeout\u001b[0m\u001b[0;34m=\u001b[0m\u001b[0;32mNone\u001b[0m\u001b[0;34m)\u001b[0m\u001b[0;34m:\u001b[0m\u001b[0;34m\u001b[0m\u001b[0;34m\u001b[0m\u001b[0m\n\u001b[0;32m--> 762\u001b[0;31m         \u001b[0mself\u001b[0m\u001b[0;34m.\u001b[0m\u001b[0m_event\u001b[0m\u001b[0;34m.\u001b[0m\u001b[0mwait\u001b[0m\u001b[0;34m(\u001b[0m\u001b[0mtimeout\u001b[0m\u001b[0;34m)\u001b[0m\u001b[0;34m\u001b[0m\u001b[0;34m\u001b[0m\u001b[0m\n\u001b[0m\u001b[1;32m    763\u001b[0m \u001b[0;34m\u001b[0m\u001b[0m\n\u001b[1;32m    764\u001b[0m     \u001b[0;32mdef\u001b[0m \u001b[0mget\u001b[0m\u001b[0;34m(\u001b[0m\u001b[0mself\u001b[0m\u001b[0;34m,\u001b[0m \u001b[0mtimeout\u001b[0m\u001b[0;34m=\u001b[0m\u001b[0;32mNone\u001b[0m\u001b[0;34m)\u001b[0m\u001b[0;34m:\u001b[0m\u001b[0;34m\u001b[0m\u001b[0;34m\u001b[0m\u001b[0m\n",
      "\u001b[0;32m~/miniconda3/lib/python3.9/threading.py\u001b[0m in \u001b[0;36mwait\u001b[0;34m(self, timeout)\u001b[0m\n\u001b[1;32m    572\u001b[0m             \u001b[0msignaled\u001b[0m \u001b[0;34m=\u001b[0m \u001b[0mself\u001b[0m\u001b[0;34m.\u001b[0m\u001b[0m_flag\u001b[0m\u001b[0;34m\u001b[0m\u001b[0;34m\u001b[0m\u001b[0m\n\u001b[1;32m    573\u001b[0m             \u001b[0;32mif\u001b[0m \u001b[0;32mnot\u001b[0m \u001b[0msignaled\u001b[0m\u001b[0;34m:\u001b[0m\u001b[0;34m\u001b[0m\u001b[0;34m\u001b[0m\u001b[0m\n\u001b[0;32m--> 574\u001b[0;31m                 \u001b[0msignaled\u001b[0m \u001b[0;34m=\u001b[0m \u001b[0mself\u001b[0m\u001b[0;34m.\u001b[0m\u001b[0m_cond\u001b[0m\u001b[0;34m.\u001b[0m\u001b[0mwait\u001b[0m\u001b[0;34m(\u001b[0m\u001b[0mtimeout\u001b[0m\u001b[0;34m)\u001b[0m\u001b[0;34m\u001b[0m\u001b[0;34m\u001b[0m\u001b[0m\n\u001b[0m\u001b[1;32m    575\u001b[0m             \u001b[0;32mreturn\u001b[0m \u001b[0msignaled\u001b[0m\u001b[0;34m\u001b[0m\u001b[0;34m\u001b[0m\u001b[0m\n\u001b[1;32m    576\u001b[0m \u001b[0;34m\u001b[0m\u001b[0m\n",
      "\u001b[0;32m~/miniconda3/lib/python3.9/threading.py\u001b[0m in \u001b[0;36mwait\u001b[0;34m(self, timeout)\u001b[0m\n\u001b[1;32m    310\u001b[0m         \u001b[0;32mtry\u001b[0m\u001b[0;34m:\u001b[0m    \u001b[0;31m# restore state no matter what (e.g., KeyboardInterrupt)\u001b[0m\u001b[0;34m\u001b[0m\u001b[0;34m\u001b[0m\u001b[0m\n\u001b[1;32m    311\u001b[0m             \u001b[0;32mif\u001b[0m \u001b[0mtimeout\u001b[0m \u001b[0;32mis\u001b[0m \u001b[0;32mNone\u001b[0m\u001b[0;34m:\u001b[0m\u001b[0;34m\u001b[0m\u001b[0;34m\u001b[0m\u001b[0m\n\u001b[0;32m--> 312\u001b[0;31m                 \u001b[0mwaiter\u001b[0m\u001b[0;34m.\u001b[0m\u001b[0macquire\u001b[0m\u001b[0;34m(\u001b[0m\u001b[0;34m)\u001b[0m\u001b[0;34m\u001b[0m\u001b[0;34m\u001b[0m\u001b[0m\n\u001b[0m\u001b[1;32m    313\u001b[0m                 \u001b[0mgotit\u001b[0m \u001b[0;34m=\u001b[0m \u001b[0;32mTrue\u001b[0m\u001b[0;34m\u001b[0m\u001b[0;34m\u001b[0m\u001b[0m\n\u001b[1;32m    314\u001b[0m             \u001b[0;32melse\u001b[0m\u001b[0;34m:\u001b[0m\u001b[0;34m\u001b[0m\u001b[0;34m\u001b[0m\u001b[0m\n",
      "\u001b[0;31mKeyboardInterrupt\u001b[0m: "
     ]
    },
    {
     "name": "stderr",
     "output_type": "stream",
     "text": [
      "Process ForkPoolWorker-4038:\n",
      "Process ForkPoolWorker-4040:\n",
      "  File \"/home/abhirup/miniconda3/lib/python3.9/multiprocessing/process.py\", line 315, in _bootstrap\n",
      "    self.run()\n",
      "Process ForkPoolWorker-4036:\n",
      "  File \"/home/abhirup/miniconda3/lib/python3.9/multiprocessing/process.py\", line 108, in run\n",
      "    self._target(*self._args, **self._kwargs)\n",
      "Traceback (most recent call last):\n",
      "Traceback (most recent call last):\n",
      "  File \"/home/abhirup/miniconda3/lib/python3.9/multiprocessing/process.py\", line 108, in run\n",
      "    self._target(*self._args, **self._kwargs)\n",
      "  File \"/home/abhirup/miniconda3/lib/python3.9/multiprocessing/process.py\", line 315, in _bootstrap\n",
      "    self.run()\n",
      "  File \"/home/abhirup/miniconda3/lib/python3.9/multiprocessing/process.py\", line 315, in _bootstrap\n",
      "    self.run()\n",
      "  File \"/home/abhirup/miniconda3/lib/python3.9/multiprocessing/pool.py\", line 125, in worker\n",
      "    result = (True, func(*args, **kwds))\n",
      "Traceback (most recent call last):\n",
      "  File \"/home/abhirup/miniconda3/lib/python3.9/multiprocessing/process.py\", line 315, in _bootstrap\n",
      "    self.run()\n",
      "  File \"/home/abhirup/miniconda3/lib/python3.9/multiprocessing/process.py\", line 315, in _bootstrap\n",
      "    self.run()\n",
      "  File \"/home/abhirup/miniconda3/lib/python3.9/multiprocessing/process.py\", line 108, in run\n",
      "    self._target(*self._args, **self._kwargs)\n",
      "  File \"/home/abhirup/miniconda3/lib/python3.9/multiprocessing/pool.py\", line 125, in worker\n",
      "    result = (True, func(*args, **kwds))\n",
      "  File \"/home/abhirup/miniconda3/lib/python3.9/multiprocessing/process.py\", line 108, in run\n",
      "    self._target(*self._args, **self._kwargs)\n",
      "  File \"/home/abhirup/miniconda3/lib/python3.9/multiprocessing/pool.py\", line 48, in mapstar\n",
      "    return list(map(*args))\n",
      "  File \"/home/abhirup/miniconda3/lib/python3.9/multiprocessing/process.py\", line 108, in run\n",
      "    self._target(*self._args, **self._kwargs)\n",
      "  File \"/home/abhirup/miniconda3/lib/python3.9/multiprocessing/process.py\", line 108, in run\n",
      "    self._target(*self._args, **self._kwargs)\n",
      "  File \"/home/abhirup/miniconda3/lib/python3.9/multiprocessing/process.py\", line 315, in _bootstrap\n",
      "    self.run()\n",
      "  File \"/home/abhirup/miniconda3/lib/python3.9/multiprocessing/pool.py\", line 125, in worker\n",
      "    result = (True, func(*args, **kwds))\n",
      "  File \"/tmp/ipykernel_709496/4168032075.py\", line 8, in get_rho_X\n",
      "    C1 = Xgs.dag()*c0_up*Xn\n",
      "  File \"/home/abhirup/miniconda3/lib/python3.9/multiprocessing/pool.py\", line 125, in worker\n",
      "    result = (True, func(*args, **kwds))\n",
      "  File \"/home/abhirup/miniconda3/lib/python3.9/multiprocessing/pool.py\", line 48, in mapstar\n",
      "    return list(map(*args))\n",
      "  File \"/home/abhirup/miniconda3/lib/python3.9/multiprocessing/pool.py\", line 125, in worker\n",
      "    result = (True, func(*args, **kwds))\n",
      "  File \"/home/abhirup/miniconda3/lib/python3.9/multiprocessing/pool.py\", line 125, in worker\n",
      "    result = (True, func(*args, **kwds))\n",
      "  File \"/tmp/ipykernel_709496/4168032075.py\", line 11, in get_rho_X\n",
      "    C2_sq = np.real((C2*C2.dag())[0][0][0])\n",
      "  File \"/home/abhirup/.local/lib/python3.9/site-packages/qutip/qobj.py\", line 946, in dag\n",
      "    out = Qobj()\n",
      "  File \"/home/abhirup/miniconda3/lib/python3.9/multiprocessing/process.py\", line 108, in run\n",
      "    self._target(*self._args, **self._kwargs)\n",
      "  File \"/home/abhirup/miniconda3/lib/python3.9/multiprocessing/pool.py\", line 48, in mapstar\n",
      "    return list(map(*args))\n",
      "  File \"/home/abhirup/miniconda3/lib/python3.9/multiprocessing/pool.py\", line 48, in mapstar\n",
      "    return list(map(*args))\n",
      "  File \"/home/abhirup/miniconda3/lib/python3.9/multiprocessing/pool.py\", line 48, in mapstar\n",
      "    return list(map(*args))\n",
      "Process ForkPoolWorker-4035:\n",
      "  File \"/home/abhirup/.local/lib/python3.9/site-packages/qutip/qobj.py\", line 360, in __init__\n",
      "    if self.type == 'super' and self.superrep is None:\n",
      "  File \"/home/abhirup/.local/lib/python3.9/site-packages/qutip/qobj.py\", line 513, in __mul__\n",
      "    out = Qobj()\n",
      "  File \"/tmp/ipykernel_709496/4168032075.py\", line 10, in get_rho_X\n",
      "    C2 = Xn.dag()*c0_up*Xgs\n",
      "  File \"/home/abhirup/.local/lib/python3.9/site-packages/qutip/qobj.py\", line 2058, in type\n",
      "    self._type = type_from_dims(self.dims)\n",
      "  File \"/tmp/ipykernel_709496/4168032075.py\", line 8, in get_rho_X\n",
      "    C1 = Xgs.dag()*c0_up*Xn\n",
      "  File \"/tmp/ipykernel_709496/4168032075.py\", line 10, in get_rho_X\n",
      "    C2 = Xn.dag()*c0_up*Xgs\n",
      "  File \"/home/abhirup/.local/lib/python3.9/site-packages/qutip/qobj.py\", line 360, in __init__\n",
      "    if self.type == 'super' and self.superrep is None:\n",
      "  File \"/home/abhirup/.local/lib/python3.9/site-packages/qutip/qobj.py\", line 513, in __mul__\n",
      "    out = Qobj()\n",
      "  File \"/home/abhirup/.local/lib/python3.9/site-packages/qutip/qobj.py\", line 513, in __mul__\n",
      "    out = Qobj()\n",
      "  File \"/home/abhirup/.local/lib/python3.9/site-packages/qutip/dimensions.py\", line 65, in type_from_dims\n",
      "    bra_like, ket_like = map(is_scalar, dims)\n",
      "  File \"/home/abhirup/miniconda3/lib/python3.9/multiprocessing/pool.py\", line 125, in worker\n",
      "    result = (True, func(*args, **kwds))\n",
      "Traceback (most recent call last):\n",
      "  File \"/home/abhirup/.local/lib/python3.9/site-packages/qutip/qobj.py\", line 360, in __init__\n",
      "    if self.type == 'super' and self.superrep is None:\n",
      "  File \"/home/abhirup/.local/lib/python3.9/site-packages/qutip/qobj.py\", line 2058, in type\n",
      "    self._type = type_from_dims(self.dims)\n",
      "  File \"/home/abhirup/.local/lib/python3.9/site-packages/qutip/qobj.py\", line 360, in __init__\n",
      "    if self.type == 'super' and self.superrep is None:\n",
      "  File \"/home/abhirup/.local/lib/python3.9/site-packages/qutip/qobj.py\", line 513, in __mul__\n",
      "    out = Qobj()\n",
      "  File \"/home/abhirup/miniconda3/lib/python3.9/multiprocessing/pool.py\", line 48, in mapstar\n",
      "    return list(map(*args))\n",
      "  File \"/home/abhirup/.local/lib/python3.9/site-packages/qutip/qobj.py\", line 2058, in type\n",
      "    self._type = type_from_dims(self.dims)\n",
      "  File \"/home/abhirup/.local/lib/python3.9/site-packages/qutip/qobj.py\", line 360, in __init__\n",
      "    if self.type == 'super' and self.superrep is None:\n",
      "  File \"/home/abhirup/miniconda3/lib/python3.9/multiprocessing/pool.py\", line 48, in mapstar\n",
      "    return list(map(*args))\n",
      "  File \"/home/abhirup/miniconda3/lib/python3.9/multiprocessing/process.py\", line 315, in _bootstrap\n",
      "    self.run()\n",
      "  File \"/home/abhirup/.local/lib/python3.9/site-packages/qutip/dimensions.py\", line 65, in type_from_dims\n",
      "    bra_like, ket_like = map(is_scalar, dims)\n",
      "  File \"/home/abhirup/.local/lib/python3.9/site-packages/qutip/dimensions.py\", line 49, in is_scalar\n",
      "    return np.prod(flatten(dims)) == 1\n",
      "  File \"/home/abhirup/.local/lib/python3.9/site-packages/qutip/dimensions.py\", line 65, in type_from_dims\n",
      "    bra_like, ket_like = map(is_scalar, dims)\n",
      "  File \"/tmp/ipykernel_709496/4168032075.py\", line 9, in get_rho_X\n",
      "    C1_sq = np.real((C1*C1.dag())[0][0][0])\n",
      "  File \"/home/abhirup/.local/lib/python3.9/site-packages/qutip/qobj.py\", line 2058, in type\n",
      "    self._type = type_from_dims(self.dims)\n",
      "  File \"/home/abhirup/.local/lib/python3.9/site-packages/qutip/dimensions.py\", line 49, in is_scalar\n",
      "    return np.prod(flatten(dims)) == 1\n",
      "  File \"/home/abhirup/miniconda3/lib/python3.9/multiprocessing/process.py\", line 108, in run\n",
      "    self._target(*self._args, **self._kwargs)\n",
      "  File \"/tmp/ipykernel_709496/4168032075.py\", line 7, in get_rho_X\n",
      "    c0_up = tensor([destroy(2), identity(2)] + [identity(2)]*(N-2))\n",
      "  File \"/home/abhirup/.local/lib/python3.9/site-packages/qutip/qobj.py\", line 513, in __mul__\n",
      "    out = Qobj()\n",
      "  File \"/home/abhirup/.local/lib/python3.9/site-packages/qutip/dimensions.py\", line 65, in type_from_dims\n",
      "    bra_like, ket_like = map(is_scalar, dims)\n",
      "  File \"/home/abhirup/.local/lib/python3.9/site-packages/qutip/dimensions.py\", line 49, in is_scalar\n",
      "    return np.prod(flatten(dims)) == 1\n",
      "  File \"<__array_function__ internals>\", line 5, in prod\n",
      "  File \"/home/abhirup/.local/lib/python3.9/site-packages/qutip/qobj.py\", line 2058, in type\n",
      "    self._type = type_from_dims(self.dims)\n",
      "  File \"<__array_function__ internals>\", line 5, in prod\n",
      "  File \"/home/abhirup/miniconda3/lib/python3.9/multiprocessing/pool.py\", line 125, in worker\n",
      "    result = (True, func(*args, **kwds))\n",
      "  File \"<__array_function__ internals>\", line 5, in prod\n",
      "  File \"/home/abhirup/.local/lib/python3.9/site-packages/qutip/tensor.py\", line 102, in tensor\n",
      "    out = Qobj()\n",
      "  File \"/home/abhirup/.local/lib/python3.9/site-packages/qutip/qobj.py\", line 360, in __init__\n",
      "    if self.type == 'super' and self.superrep is None:\n",
      "  File \"/home/abhirup/.local/lib/python3.9/site-packages/qutip/dimensions.py\", line 49, in is_scalar\n",
      "    return np.prod(flatten(dims)) == 1\n",
      "  File \"/home/abhirup/.local/lib/python3.9/site-packages/numpy/core/fromnumeric.py\", line 3051, in prod\n",
      "    return _wrapreduction(a, np.multiply, 'prod', axis, dtype, out,\n",
      "  File \"/home/abhirup/.local/lib/python3.9/site-packages/qutip/qobj.py\", line 360, in __init__\n",
      "    if self.type == 'super' and self.superrep is None:\n",
      "  File \"/home/abhirup/miniconda3/lib/python3.9/multiprocessing/pool.py\", line 48, in mapstar\n",
      "    return list(map(*args))\n",
      "  File \"/home/abhirup/.local/lib/python3.9/site-packages/numpy/core/fromnumeric.py\", line 3051, in prod\n",
      "    return _wrapreduction(a, np.multiply, 'prod', axis, dtype, out,\n",
      "  File \"/home/abhirup/.local/lib/python3.9/site-packages/numpy/core/fromnumeric.py\", line 86, in _wrapreduction\n",
      "    return ufunc.reduce(obj, axis, dtype, out, **passkwargs)\n",
      "  File \"/tmp/ipykernel_709496/4168032075.py\", line 10, in get_rho_X\n",
      "    C2 = Xn.dag()*c0_up*Xgs\n",
      "  File \"/home/abhirup/.local/lib/python3.9/site-packages/qutip/dimensions.py\", line 65, in type_from_dims\n",
      "    bra_like, ket_like = map(is_scalar, dims)\n",
      "  File \"/home/abhirup/.local/lib/python3.9/site-packages/qutip/qobj.py\", line 2058, in type\n",
      "    self._type = type_from_dims(self.dims)\n",
      "  File \"<__array_function__ internals>\", line 5, in prod\n",
      "  File \"/home/abhirup/.local/lib/python3.9/site-packages/numpy/core/fromnumeric.py\", line 3051, in prod\n",
      "    return _wrapreduction(a, np.multiply, 'prod', axis, dtype, out,\n",
      "  File \"/home/abhirup/.local/lib/python3.9/site-packages/qutip/dimensions.py\", line 49, in is_scalar\n",
      "    return np.prod(flatten(dims)) == 1\n",
      "  File \"/home/abhirup/.local/lib/python3.9/site-packages/numpy/core/fromnumeric.py\", line 3051, in prod\n",
      "    return _wrapreduction(a, np.multiply, 'prod', axis, dtype, out,\n",
      "KeyboardInterrupt\n",
      "  File \"/home/abhirup/.local/lib/python3.9/site-packages/numpy/core/fromnumeric.py\", line 70, in _wrapreduction\n",
      "    passkwargs = {k: v for k, v in kwargs.items()\n",
      "  File \"/home/abhirup/.local/lib/python3.9/site-packages/numpy/core/fromnumeric.py\", line 86, in _wrapreduction\n",
      "    return ufunc.reduce(obj, axis, dtype, out, **passkwargs)\n",
      "  File \"/home/abhirup/.local/lib/python3.9/site-packages/qutip/qobj.py\", line 530, in __mul__\n",
      "    for l, r in zip_longest(dims[0], dims[1],\n",
      "  File \"/home/abhirup/.local/lib/python3.9/site-packages/qutip/qobj.py\", line 2058, in type\n",
      "    self._type = type_from_dims(self.dims)\n",
      "  File \"/home/abhirup/.local/lib/python3.9/site-packages/qutip/dimensions.py\", line 65, in type_from_dims\n",
      "    bra_like, ket_like = map(is_scalar, dims)\n",
      "KeyboardInterrupt\n",
      "KeyboardInterrupt\n",
      "  File \"<__array_function__ internals>\", line 5, in prod\n",
      "  File \"/home/abhirup/.local/lib/python3.9/site-packages/numpy/core/fromnumeric.py\", line 2933, in prod\n",
      "    @array_function_dispatch(_prod_dispatcher)\n",
      "  File \"/home/abhirup/.local/lib/python3.9/site-packages/qutip/dimensions.py\", line 49, in is_scalar\n",
      "    return np.prod(flatten(dims)) == 1\n",
      "KeyboardInterrupt\n",
      "  File \"/home/abhirup/.local/lib/python3.9/site-packages/qutip/dimensions.py\", line 65, in type_from_dims\n",
      "    bra_like, ket_like = map(is_scalar, dims)\n",
      "  File \"/home/abhirup/.local/lib/python3.9/site-packages/numpy/core/fromnumeric.py\", line 86, in _wrapreduction\n",
      "    return ufunc.reduce(obj, axis, dtype, out, **passkwargs)\n",
      "KeyboardInterrupt\n",
      "  File \"<__array_function__ internals>\", line 5, in prod\n",
      "  File \"/home/abhirup/.local/lib/python3.9/site-packages/qutip/dimensions.py\", line 49, in is_scalar\n",
      "    return np.prod(flatten(dims)) == 1\n",
      "  File \"<__array_function__ internals>\", line 5, in prod\n",
      "  File \"/home/abhirup/.local/lib/python3.9/site-packages/numpy/core/fromnumeric.py\", line 2933, in prod\n",
      "    @array_function_dispatch(_prod_dispatcher)\n",
      "KeyboardInterrupt\n",
      "KeyboardInterrupt\n",
      "  File \"/home/abhirup/.local/lib/python3.9/site-packages/numpy/core/fromnumeric.py\", line 3051, in prod\n",
      "    return _wrapreduction(a, np.multiply, 'prod', axis, dtype, out,\n",
      "  File \"/home/abhirup/.local/lib/python3.9/site-packages/numpy/core/fromnumeric.py\", line 86, in _wrapreduction\n",
      "    return ufunc.reduce(obj, axis, dtype, out, **passkwargs)\n",
      "KeyboardInterrupt\n"
     ]
    }
   ],
   "source": [
    "def get_rho_X(args):\n",
    "    (En, Xn), Xgs = args\n",
    "    eta = t/2\n",
    "    N = len(Xgs.dims[0])\n",
    "    Z = len(X0)\n",
    "    Egs = E[0]\n",
    "    c0_up = tensor([destroy(2), identity(2)] + [identity(2)]*(N-2))\n",
    "    C1 = Xgs.dag()*c0_up*Xn\n",
    "    C1_sq = np.real((C1*C1.dag())[0][0][0])\n",
    "    C2 = Xn.dag()*c0_up*Xgs\n",
    "    C2_sq = np.real((C2*C2.dag())[0][0][0])\n",
    "    x1 = w_range + Egs - En\n",
    "    x2 = w_range + En - Egs\n",
    "    return (En - Egs if C1_sq > 0 or C2_sq > 0 else 1)\n",
    "#     return (C1_sq * np.exp(-(x1/eta)**2)/(eta*sqrt(np.pi)) + C2_sq * np.exp(-(x2/eta)**2)/(eta*sqrt(np.pi))) / Z\n",
    "\n",
    "\n",
    "for U in tqdm(np.linspace(0, 0.001, 5)):\n",
    "    N = 4\n",
    "    t = 1\n",
    "    H = 0\n",
    "    H += hopping(t, N)\n",
    "    H += onsite(U, N)\n",
    "    H = 0.5 * (H + H.dag())\n",
    "    E, X = H.eigenstates()\n",
    "    E0 = E[np.where(E == min(E))]\n",
    "    X0 = X[np.where(E == min(E))]\n",
    "    Z = len(E0)\n",
    "\n",
    "    len_w = 100\n",
    "    w_end = 5*t\n",
    "    w_range = np.linspace(-w_end, w_end, 2*len_w)\n",
    "    w_range = np.insert(w_range, int(len_w), 0) if 0 not in w_range else w_range\n",
    "\n",
    "    \n",
    "#     A = sum(tqdm(Pool(50).map(get_rho_X, product(zip(E, X), X0)), total=len(X0)*len(E)))\n",
    "    poles = list(set(Pool().map(get_rho_X, product(zip(E, X), X0))))\n",
    "    print (U, min(poles))\n",
    "\n",
    "    plt.plot(w_range, A)\n",
    "    plt.show()"
   ]
  },
  {
   "cell_type": "code",
   "execution_count": null,
   "metadata": {},
   "outputs": [],
   "source": []
  }
 ],
 "metadata": {
  "kernelspec": {
   "display_name": "Python 3 (ipykernel)",
   "language": "python",
   "name": "python3"
  },
  "language_info": {
   "codemirror_mode": {
    "name": "ipython",
    "version": 3
   },
   "file_extension": ".py",
   "mimetype": "text/x-python",
   "name": "python",
   "nbconvert_exporter": "python",
   "pygments_lexer": "ipython3",
   "version": "3.9.7"
  }
 },
 "nbformat": 4,
 "nbformat_minor": 4
}
