{
 "cells": [
  {
   "cell_type": "code",
   "execution_count": 86,
   "id": "b0055166-f4ed-47b0-82ef-5cba3b980679",
   "metadata": {},
   "outputs": [],
   "source": [
    "from qutip import *\n",
    "import numpy as np\n",
    "from matplotlib import pyplot as plt\n",
    "from tqdm import tqdm\n",
    "#### STYLE MODIFICATIONS FOR PLOTTING FIGURES ####\n",
    "\n",
    "plt.style.use('ggplot')\n",
    "markers = [\"o\", \"X\", \"P\", \"p\", \"*\"]\n",
    "cols = [p['color'] for p in plt.rcParams['axes.prop_cycle']]\n",
    "plt.rc('text.latex', preamble=r'\\usepackage{amsmath}\\usepackage{braket}\\usepackage{nicefrac}')\n",
    "plt.rcParams.update({'font.size': 30,\n",
    "                     'figure.figsize': (11,7),\n",
    "                     'axes.facecolor': 'white',\n",
    "                     'axes.edgecolor': 'lightgray',\n",
    "                     \"figure.autolayout\": 'True',\n",
    "                     'axes.xmargin': 0.03,\n",
    "                     'axes.ymargin': 0.05,\n",
    "                     'axes.grid': False,\n",
    "                     'axes.linewidth': 5,\n",
    "                     'lines.markersize': 10,\n",
    "                     'text.usetex': True,\n",
    "                     'lines.linewidth': 8,\n",
    "                     \"legend.frameon\": True,\n",
    "                     \"legend.framealpha\": 0.7,\n",
    "                     \"legend.handletextpad\": 1,\n",
    "                     \"legend.edgecolor\": \"gray\",\n",
    "                     \"legend.handlelength\": 1,\n",
    "                     \"legend.labelspacing\": 0,\n",
    "                     \"legend.columnspacing\": 1,\n",
    "                     \"legend.fontsize\": 35,\n",
    "                    })\n",
    "linestyles = [\"-\", \"--\", \":\"]\n",
    "bbox = dict(boxstyle=\"round\", fc=\"0.9\")\n",
    "\n",
    "\n",
    "def get_MI(Xgs, i, j):\n",
    "    if not isinstance(Xgs, list):\n",
    "        Xgs = [Xgs]\n",
    "    \n",
    "    mut_info = 0\n",
    "    for X in Xgs:\n",
    "        rho = X * X.dag()\n",
    "        rho_part = rho.ptrace(i+j)\n",
    "        mut_info += entropy_mutual(rho_part, list(range(len(i))), list(range(len(i), len(i)+len(j))))/len(Xgs)\n",
    "    return mut_info"
   ]
  },
  {
   "cell_type": "code",
   "execution_count": 90,
   "id": "bc76f645-d1da-4e00-8778-81b6915940d6",
   "metadata": {},
   "outputs": [
    {
     "name": "stderr",
     "output_type": "stream",
     "text": [
      "100%|███████████████████████████████████████████| 50/50 [00:01<00:00, 48.14it/s]\n"
     ]
    },
    {
     "data": {
      "image/png": "[encoded data removed]",
      "text/plain": [
       "<Figure size 792x504 with 1 Axes>"
      ]
     },
     "metadata": {},
     "output_type": "display_data"
    }
   ],
   "source": [
    "g_arr = 10**np.linspace(-1.5, 1.5, 50)\n",
    "for g in tqdm(g_arr):\n",
    "    Sd_vec = [tensor(sigma_i(), identity(2), identity(2)) for sigma_i in (sigmax, sigmay, sigmaz)]\n",
    "    S1_vec = [tensor(identity(2), sigma_i(), identity(2)) for sigma_i in (sigmax, sigmay, sigmaz)]\n",
    "    S2_vec = [tensor(identity(2), identity(2), sigma_i()) for sigma_i in (sigmax, sigmay, sigmaz)]\n",
    "    H = (Sd_vec[0] * S1_vec[0] + Sd_vec[1] * S1_vec[1] + Sd_vec[2] * S1_vec[2]) + (g) * (Sd_vec[0] * S2_vec[0] + Sd_vec[1] * S2_vec[1] + Sd_vec[2] * S2_vec[2])\n",
    "    E, X = H.eigenstates()\n",
    "    # rho = X[0] * X[0].dag()\n",
    "    # rho_d1 = ptrace(rho, [0,1])\n",
    "    # rho_d2 = ptrace(rho, [0,2])\n",
    "    I_d_1 = get_MI(X[0], [0], [1])\n",
    "    I_d_2 = get_MI(X[0], [0], [2])\n",
    "    I_d_12 = get_MI(X[0], [0], [1,2])\n",
    "    I3 = I_d_1 + I_d_2 - I_d_12\n",
    "    # duu_state = tensor(basis(2,1), basis(2,0), basis(2,0))\n",
    "    # # print (X[0].dag() * (Sd_vec[2] + S1_vec[2] + S2_vec[2]) * X[0])\n",
    "    # overlap_with_duu = np.real((duu_state.dag() * X[1])[0][0])\n",
    "    # # print (overlap_with_duu)\n",
    "    \n",
    "    # plt.scatter(g, I_d_1, color=cols[0])\n",
    "    # plt.scatter(g, I_d_2, color=cols[1])\n",
    "    # plt.scatter(g, I_d_12, color=cols[2])\n",
    "    plt.scatter(g, round(I3, 13), color=cols[3])\n",
    "\n",
    "# exact = (J1 - np.sqrt(J1**2 - J1 * J2_arr + J2_arr**2)) / J2_arr\n",
    "# exact = (1 / np.sqrt(1 + 2 * exact**2)) * exact\n",
    "# plt.plot(J2_arr, exact, color=cols[1])\n",
    "# plt.axhline(2*np.log(2), 0, 1, lw=3, color=cols[2])\n",
    "# plt.axhline(-2*np.log(2), 0, 1, lw=3, color=cols[2])\n",
    "plt.axhline(0, 0, 1, lw=3, color=cols[3])\n",
    "plt.axvline(1, 0, 1, lw=3, color=cols[1])\n",
    "plt.ylabel(r\"$I_3(d:1:2)$\")\n",
    "plt.xlabel(r\"$J_2/J_1$\")\n",
    "plt.xscale(\"log\")\n",
    "plt.show()"
   ]
  },
  {
   "cell_type": "code",
   "execution_count": null,
   "id": "4c5fb841-95b5-451f-905b-499f89ec08b5",
   "metadata": {},
   "outputs": [],
   "source": []
  }
 ],
 "metadata": {
  "kernelspec": {
   "display_name": "Python 3 (ipykernel)",
   "language": "python",
   "name": "python3"
  },
  "language_info": {
   "codemirror_mode": {
    "name": "ipython",
    "version": 3
   },
   "file_extension": ".py",
   "mimetype": "text/x-python",
   "name": "python",
   "nbconvert_exporter": "python",
   "pygments_lexer": "ipython3",
   "version": "3.9.16"
  }
 },
 "nbformat": 4,
 "nbformat_minor": 5
}
