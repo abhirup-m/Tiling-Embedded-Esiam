{
 "cells": [
  {
   "cell_type": "code",
   "execution_count": 1,
   "metadata": {},
   "outputs": [
    {
     "ename": "ModuleNotFoundError",
     "evalue": "No module named 'numpy'",
     "output_type": "error",
     "traceback": [
      "\u001b[0;31m---------------------------------------------------------------------------\u001b[0m",
      "\u001b[0;31mModuleNotFoundError\u001b[0m                       Traceback (most recent call last)",
      "\u001b[0;32m/tmp/ipykernel_52095/345211358.py\u001b[0m in \u001b[0;36m<module>\u001b[0;34m\u001b[0m\n\u001b[0;32m----> 1\u001b[0;31m \u001b[0;32mimport\u001b[0m \u001b[0mnumpy\u001b[0m \u001b[0;32mas\u001b[0m \u001b[0mnp\u001b[0m\u001b[0;34m\u001b[0m\u001b[0;34m\u001b[0m\u001b[0m\n\u001b[0m\u001b[1;32m      2\u001b[0m \u001b[0;32mfrom\u001b[0m \u001b[0mtqdm\u001b[0m \u001b[0;32mimport\u001b[0m \u001b[0mtqdm\u001b[0m\u001b[0;34m\u001b[0m\u001b[0;34m\u001b[0m\u001b[0m\n\u001b[1;32m      3\u001b[0m \u001b[0;32mfrom\u001b[0m \u001b[0mmath\u001b[0m \u001b[0;32mimport\u001b[0m \u001b[0msqrt\u001b[0m\u001b[0;34m,\u001b[0m\u001b[0mexp\u001b[0m\u001b[0;34m\u001b[0m\u001b[0;34m\u001b[0m\u001b[0m\n\u001b[1;32m      4\u001b[0m \u001b[0;32mimport\u001b[0m \u001b[0mmatplotlib\u001b[0m\u001b[0;34m\u001b[0m\u001b[0;34m\u001b[0m\u001b[0m\n\u001b[1;32m      5\u001b[0m \u001b[0;32mfrom\u001b[0m \u001b[0mmatplotlib\u001b[0m \u001b[0;32mimport\u001b[0m \u001b[0mpyplot\u001b[0m \u001b[0;32mas\u001b[0m \u001b[0mplt\u001b[0m\u001b[0;34m\u001b[0m\u001b[0;34m\u001b[0m\u001b[0m\n",
      "\u001b[0;31mModuleNotFoundError\u001b[0m: No module named 'numpy'"
     ]
    }
   ],
   "source": [
    "import numpy as np\n",
    "from tqdm import tqdm\n",
    "from math import sqrt,exp\n",
    "import matplotlib\n",
    "from matplotlib import pyplot as plt\n",
    "from multiprocessing import Pool\n",
    "from itertools import product\n",
    "from qutip import *\n",
    "font = {'size'   : 17}\n",
    "matplotlib.rc('font', **font)\n",
    "matplotlib.rcParams['text.usetex'] = True\n",
    "# plt.rcParams[\"figure.figsize\"]= 10, 7\n",
    "plt.rcParams['figure.dpi'] = 100\n",
    "matplotlib.rcParams['lines.linewidth'] = 2\n",
    "plt.rcParams['axes.grid'] = True\n",
    "\n",
    "global eta\n",
    "eta = 0.2      # width of broadening function"
   ]
  },
  {
   "cell_type": "code",
   "execution_count": null,
   "metadata": {},
   "outputs": [],
   "source": [
    "def dimer_Ek(U, t, w):\n",
    "    # w = (number of nearest neighbours of zero mode) - 1\n",
    "    \n",
    "    def hop_dz(t, w):\n",
    "        H_hop = 0\n",
    "        for s in ['u', 'd']:\n",
    "            if spin == 'u':\n",
    "                H_hop += tensor([create(2), identity(2), destroy(2), identity(2)] + [identity(2)]*(w - 1)\n",
    "            else:\n",
    "                H_hop += tensor([identity(2), create(2), identity(2), destroy(2)] + [identity(2)]*(w - 1)\n",
    "        return -t * (H_hop + H_hop.dag())\n",
    "                                    \n",
    "                                    \n",
    "    def hop_zw(t, w):\n",
    "        H_hop = 0\n",
    "        for i in range(w):\n",
    "            for spin in ['u', 'd']:\n",
    "                if spin == 'u':\n",
    "                    op1 = [create(2), identity(2)]\n",
    "                    op2 = [destroy(2), identity(2)]\n",
    "                else:\n",
    "                    op1 = [identity(2), create(2)]\n",
    "                    op2 = [identity(2), destroy(2)]\n",
    "                pre = [identity(2)]*2*w\n",
    "                post = [identity(2)]*2*(2 - w)\n",
    "                H_hop += tensor([identity(2)] + op1 + pre + op2 + post)\n",
    "        return -t*(H_hop + H_hop.dag())\n",
    "\n",
    "\n",
    "    def onsite(U, N):\n",
    "        tau_tau = [create(2)*destroy(2) - 1/2, create(2)*destroy(2) - 1/2]\n",
    "        H_ons = tensor(tau_tau + [identity(2)]*2*(w+1)) + tensor([identity(2)]*2 + tau_tau + [identity(2)]*2*(w))\n",
    "        return U*H_ons"
   ]
  },
  {
   "cell_type": "code",
   "execution_count": null,
   "metadata": {},
   "outputs": [],
   "source": []
  }
 ],
 "metadata": {
  "kernelspec": {
   "display_name": "Python 3.9.2 64-bit",
   "language": "python",
   "name": "python39264bitf680542ec57e4991a81294a547b5a1cb"
  },
  "language_info": {
   "codemirror_mode": {
    "name": "ipython",
    "version": 3
   },
   "file_extension": ".py",
   "mimetype": "text/x-python",
   "name": "python",
   "nbconvert_exporter": "python",
   "pygments_lexer": "ipython3",
   "version": "3.9.6"
  }
 },
 "nbformat": 4,
 "nbformat_minor": 4
}
