{
 "cells": [
  {
   "cell_type": "code",
   "execution_count": null,
   "id": "floating-capitol",
   "metadata": {
    "tags": []
   },
   "outputs": [],
   "source": [
    "#### IMPORTS ####\n",
    "using ProgressMeter\n",
    "using Plots, Measures\n",
    "using LaTeXStrings\n",
    "using NPZ\n",
    "theme(:default)\n",
    "include(\"dWaveRgFlow.jl\")"
   ]
  },
  {
   "cell_type": "code",
   "execution_count": null,
   "id": "4ff0606f-d3a2-43d2-9a12-8f403b18e299",
   "metadata": {},
   "outputs": [],
   "source": [
    "map1DTo2D(points, num_kspace) = [(points .- 1) .% num_kspace .+ 1, div.((points .- 1), num_kspace) + 1]\n",
    "\n",
    "num_kspace_half = 40\n",
    "num_kspace = 2 * num_kspace_half + 1\n",
    "kx_arr = range(-pi, stop=pi, length=num_kspace)\n",
    "FermiArmSouthWest = [num_kspace_half + 1 + j * (num_kspace - 1) for j in 0:(num_kspace_half)]\n",
    "FermiArmAbove = [point - 1 for point in FermiArmSouthWest if 1 <= (point - 1) % num_kspace <= num_kspace_half]\n",
    "FermiArmBelow = [point + 1 for point in FermiArmSouthWest if 1 <= point % num_kspace <= num_kspace_half]\n",
    "\n",
    "antinodeD = FermiArmSouthWest[1]\n",
    "midway = FermiArmSouthWest[div(1 + num_kspace_half, 6) + 1]\n",
    "node = FermiArmSouthWest[div(1 + num_kspace_half, 2) + 1]\n",
    "\n",
    "node_kx, node_ky = round.(kx_arr[map1DTo2D(node, num_kspace)] ./ pi, digits=2)\n",
    "midway_kx, midway_ky = round.(kx_arr[map1DTo2D(midway, num_kspace)] ./ pi, digits=2)\n",
    "antinodeD_kx, antinodeD_ky = round.(kx_arr[map1DTo2D(antinodeD, num_kspace)] ./ pi, digits=2)\n",
    "\n",
    "# println(antinodeD, \" \", midway, \" \", node)\n",
    "# kx_arr = range(-pi, stop=pi, length=num_kspace)\n",
    "J_val = 0.1\n",
    "\n",
    "# kondoJArray, dispersionArray = main(num_kspace_half, 1, J_val, -0)\n",
    "# println(kondoJArray[21,:,1])\n",
    "\n",
    "# W_val_range = [0.004, 0.008, 0.01, 0.02, 0.05, 0.055, 0.06]\n",
    "W_val_range = 0:1:1\n",
    "plots1 = repeat([plot(1)], length(W_val_range) * 3)\n",
    "# plots2 = repeat([plot(1)], length(W_val_range) * 3)\n",
    "for (j, W_val) in collect(enumerate(J_val .* W_val_range))\n",
    "    @time kondoJArray, dispersionArray = main(num_kspace_half, 1, J_val, -W_val)\n",
    "    J_antinodeD = zeros(length(FermiArmAbove), num_kspace_half+1)\n",
    "    J_midway = zeros(length(FermiArmAbove), num_kspace_half+1)\n",
    "    J_node = zeros(length(FermiArmAbove), num_kspace_half+1)\n",
    "    for i in 1:(num_kspace_half+1)\n",
    "        J_antinodeD[:,i] = kondoJArray[antinodeD,FermiArmAbove,i]\n",
    "        J_midway[:,i] = kondoJArray[midway,FermiArmAbove,i]\n",
    "        J_node[:,i] = round.(kondoJArray[node,FermiArmAbove,i], digits=10)\n",
    "    end\n",
    "\n",
    "    title_node = \"\\$\\\\vec k_1 = ($node_kx\\\\pi, $node_ky\\\\pi), \\\\quad W/t=$W_val, \\\\quad J/t=$J_val\\$\"\n",
    "    title_antinode = \"\\$\\\\vec k_1 = ($antinodeD_kx\\\\pi, $antinodeD_ky\\\\pi), \\\\quad W/t=$W_val, \\\\quad J/t=$J_val\\$\"\n",
    "    title_midway = \"\\$\\\\vec k_1 = ($midway_kx\\\\pi, $midway_ky\\\\pi), \\\\quad W/t=$W_val, \\\\quad J/t=$J_val\\$\"\n",
    "\n",
    "    plots1[(j-1) * 3 + 1] = heatmap(1:(num_kspace_half+1), 1:length(FermiArmAbove), J_antinodeD, title=title_antinode, c=:thermal)\n",
    "    plots1[(j-1) * 3 + 2] = heatmap(1:(num_kspace_half+1), 1:length(FermiArmAbove), J_midway, title=title_midway, c=:thermal)\n",
    "    plots1[(j-1) * 3 + 3] = heatmap(1:(num_kspace_half+1), 1:length(FermiArmAbove), J_node, title=title_node, c=:thermal)\n",
    "    \n",
    "    # push!(plots2, heatmap(1:(num_kspace_half+1), 1:length(FermiArmAbove), log10.(abs.(J_node)), title=\"\\$\\\\vec k_1 = (0,-\\\\pi), \\\\quad W=$W_val, \\\\quad J/t=$J_val\\$\", c=:thermal))\n",
    "    # push!(plots2, heatmap(1:(num_kspace_half+1), 1:length(FermiArmAbove), log10.(abs.(J_midway)), title=\"\\$\\\\vec k_1 = (-\\\\pi/4,-3\\\\pi/4), \\\\quad W=$W_val, \\\\quad J/t=$J_val\\$\", c=:thermal))\n",
    "    # push!(plots2, heatmap(1:(num_kspace_half+1), 1:length(FermiArmAbove), log10.(abs.(J_antinodeD)), title=\"\\$\\\\vec k_1 = (-\\\\pi/2,-\\\\pi/2), \\\\quad W=$W_val, \\\\quad J/t=$J_val\\$\", c=:thermal))\n",
    "    \n",
    "end\n",
    "\n",
    "p= plot(plots1..., layout=(length(W_val_range), 3), size=(400*3, 200*length(W_val_range)), titlefontsize=10, topmargin=0mm, bottommargin=0mm, \n",
    "    leftmargin=3mm, rightmargin=3mm)\n",
    "savefig(p, \"figCombined.pdf\")\n",
    "# p= plot(plots2..., layout=(length(W_val_range), 3), size=(400*3, 200*length(W_val_range)), titlefontsize=10, topmargin=0mm, bottommargin=0mm, \n",
    "#     leftmargin=3mm, rightmargin=3mm)\n",
    "# savefig(p, \"figCombined_abs.pdf\")"
   ]
  },
  {
   "cell_type": "code",
   "execution_count": null,
   "id": "636c2bff-480c-45fd-ad56-2b3ddacfccdb",
   "metadata": {},
   "outputs": [],
   "source": [
    "num_kspace_half = 50\n",
    "num_kspace = 2 * num_kspace_half + 1\n",
    "kx_arr = range(-pi, stop=pi, length=num_kspace)\n",
    "FermiArmSouthWest = [num_kspace_half + 1 + j * (num_kspace - 1) for j in 0:(num_kspace_half)]\n",
    "FermiArmAbove = [point - 1 for point in FermiArmSouthWest if 1 <= (point - 1) % num_kspace <= num_kspace_half]\n",
    "\n",
    "J_val = 0.02\n",
    "\n",
    "W_val_range = 0:0.3:1\n",
    "antinodeD = FermiArmSouthWest[end]\n",
    "midway = FermiArmSouthWest[div(1 + num_kspace_half, 4) + 1]\n",
    "node = FermiArmSouthWest[div(1 + num_kspace_half, 2)]\n",
    "fspoints = [antinodeD, midway, node]\n",
    "points = [FermiArmAbove[FermiArmSouthWest[2:end] .== point][1] for point in fspoints]\n",
    "println(points)\n",
    "\n",
    "for W_val in J_val .* W_val_range\n",
    "    plot1 = plot(thickness_scaling=1.5, size=(800, 300), layout=(1, 2), palette = :tol_bright, xlabel=\"RG flow\", ylabel=\"Kondo coupling\", title=\"\\$W=$W_val\\$\")\n",
    "    @time kondoJArray, dispersionArray = main(num_kspace_half, 1, J_val, -W_val)\n",
    "    for (p1, p2, label) in zip(fspoints, points, [\"AN\", \"M\", \"N\"])\n",
    "        plot!(plot1, kondoJArray[p1, p2, :], label=label, linewidth = 4, subplot=1)\n",
    "        plot!(plot1, kondoJArray[p1, p1, :], label=label, linewidth = 4, subplot=2)\n",
    "    end\n",
    "    display(plot1)\n",
    "    # display(plot2)\n",
    "end\n",
    "\n",
    "# savefig(plot1, \"figCombinedForward.pdf\")\n",
    "# p= plot(plots2..., layout=(length(W_val_range), 3), size=(400*3, 200*length(W_val_range)), titlefontsize=10, topmargin=0mm, bottommargin=0mm, \n",
    "#     leftmargin=3mm, rightmargin=3mm)\n",
    "# savefig(p, \"figCombined_abs.pdf\")"
   ]
  }
 ],
 "metadata": {
  "kernelspec": {
   "display_name": "Julia 1.9.0",
   "language": "julia",
   "name": "julia-1.9"
  },
  "language_info": {
   "file_extension": ".jl",
   "mimetype": "application/julia",
   "name": "julia",
   "version": "1.10.0"
  },
  "vscode": {
   "interpreter": {
    "hash": "e7370f93d1d0cde622a1f8e1c04877d8463912d04d973331ad4851f04de6915a"
   }
  },
  "widgets": {
   "application/vnd.jupyter.widget-state+json": {
    "state": {},
    "version_major": 2,
    "version_minor": 0
   }
  }
 },
 "nbformat": 4,
 "nbformat_minor": 5
}
