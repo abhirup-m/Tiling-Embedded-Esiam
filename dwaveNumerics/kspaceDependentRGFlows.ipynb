{
 "cells": [
  {
   "cell_type": "code",
   "execution_count": null,
   "id": "floating-capitol",
   "metadata": {
    "tags": []
   },
   "outputs": [],
   "source": [
    "#### IMPORTS ####\n",
    "using ProgressMeter\n",
    "using Plots\n",
    "using LaTeXStrings\n",
    "using NPZ\n",
    "include(\"dWaveRgFlow.jl\")"
   ]
  },
  {
   "cell_type": "code",
   "execution_count": null,
   "id": "4ff0606f-d3a2-43d2-9a12-8f403b18e299",
   "metadata": {},
   "outputs": [],
   "source": [
    "num_kspace_half = 30\n",
    "num_kspace = 2 * num_kspace_half + 1\n",
    "kx_arr = range(-pi, stop=pi, length=num_kspace)\n",
    "@time kondoJArray, dispersionArray = main(num_kspace_half, 1, 0.5, 0.1)\n",
    "dosArray = getDOS(num_kspace, dispersionArray)\n",
    "antinode = num_kspace_half + 1\n",
    "node = div(num_kspace_half, 2) * (num_kspace + 1)\n",
    "\n",
    "plots1 = []\n",
    "plots2 = []\n",
    "for i in [1, div(num_kspace_half, 2)+div(num_kspace_half, 3), num_kspace_half+1]\n",
    "    J_antinode = reshape(kondoJArray[antinode,:,i], (num_kspace, num_kspace))\n",
    "    J_node = reshape(kondoJArray[node,:,i], (num_kspace, num_kspace))\n",
    "    push!(plots1, heatmap(kx_arr, kx_arr, reshape(J_antinode, (num_kspace, num_kspace))))\n",
    "    push!(plots2, heatmap(kx_arr, kx_arr, reshape(J_node, (num_kspace, num_kspace))))\n",
    "end\n",
    "p2 = plot(plots1..., layout=(3, 1), size=(600, 400 * 3), thickness_scaling=1.2, xlims = (-1.1*pi, 1.1*pi), ylims = (-1.1*pi, 1.1*pi), xlabel=\"\\$k_x\\$\", ylabel=\"\\$k_y\\$\")\n",
    "savefig(p2, \"figAntiNode.pdf\")\n",
    "p3 = plot(plots2..., layout=(3, 1), size=(600, 400 * 3), thickness_scaling=1.2, xlims = (-1.1*pi, 1.1*pi), ylims = (-1.1*pi, 1.1*pi), xlabel=\"\\$k_x\\$\", ylabel=\"\\$k_y\\$\")\n",
    "savefig(p3, \"figNode.pdf\")"
   ]
  }
 ],
 "metadata": {
  "kernelspec": {
   "display_name": "Julia 1.9.0",
   "language": "julia",
   "name": "julia-1.9"
  },
  "language_info": {
   "file_extension": ".jl",
   "mimetype": "application/julia",
   "name": "julia",
   "version": "1.10.0"
  },
  "vscode": {
   "interpreter": {
    "hash": "e7370f93d1d0cde622a1f8e1c04877d8463912d04d973331ad4851f04de6915a"
   }
  },
  "widgets": {
   "application/vnd.jupyter.widget-state+json": {
    "state": {},
    "version_major": 2,
    "version_minor": 0
   }
  }
 },
 "nbformat": 4,
 "nbformat_minor": 5
}
