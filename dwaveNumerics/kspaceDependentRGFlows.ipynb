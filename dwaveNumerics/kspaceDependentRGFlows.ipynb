{
 "cells": [
  {
   "cell_type": "code",
   "execution_count": null,
   "id": "floating-capitol",
   "metadata": {
    "tags": []
   },
   "outputs": [],
   "source": [
    "#### IMPORTS ####\n",
    "using ProgressMeter\n",
    "using Plots, Measures\n",
    "using LaTeXStrings\n",
    "using NPZ\n",
    "theme(:ggplot2)\n",
    "include(\"dWaveRgFlow.jl\")"
   ]
  },
  {
   "cell_type": "code",
   "execution_count": null,
   "id": "4ff0606f-d3a2-43d2-9a12-8f403b18e299",
   "metadata": {},
   "outputs": [],
   "source": [
    "map1DTo2D(points, num_kspace) = [(points .- 1) .% num_kspace .+ 1, div.((points .- 1), num_kspace) + 1]\n",
    "\n",
    "num_kspace_half = 10\n",
    "num_kspace = 2 * num_kspace_half + 1\n",
    "kx_arr = range(-pi, stop=pi, length=num_kspace)\n",
    "for W_val in [0.004, 0.008, 0.01, 0.02, 0.05, 0.055, 0.06]\n",
    "    @time kondoJArray, dispersionArray = main(num_kspace_half, 1, 0.05, -W_val)\n",
    "    FermiArmSouthWest = [num_kspace_half + 1 + j * (num_kspace - 1) for j in 0:(num_kspace_half)]\n",
    "    FermiArmAbove = [point - 1 for point in FermiArmSouthWest if 1 <= (point - 1) % num_kspace <= num_kspace_half]\n",
    "    FermiArmBelow = [point + 1 for point in FermiArmSouthWest if 1 <= point % num_kspace <= num_kspace_half]\n",
    "    \n",
    "    antinodeD = FermiArmSouthWest[1]\n",
    "    midway = FermiArmSouthWest[div(1 + num_kspace_half, 4)]\n",
    "    node = FermiArmSouthWest[div(1 + num_kspace_half, 2)]\n",
    "    J_antinodeD = zeros(length(FermiArmAbove), num_kspace_half+1)\n",
    "    J_midway = zeros(length(FermiArmAbove), num_kspace_half+1)\n",
    "    J_node = zeros(length(FermiArmAbove), num_kspace_half+1)\n",
    "    for i in 1:(num_kspace_half+1)\n",
    "        J_antinodeD[:,i] = kondoJArray[antinodeD,FermiArmAbove,i]\n",
    "        J_midway[:,i] = kondoJArray[midway,FermiArmAbove,i]\n",
    "        J_node[:,i] = kondoJArray[node,FermiArmAbove,i]\n",
    "    end\n",
    "    \n",
    "    p1 = heatmap(1:(num_kspace_half+1), 1:length(FermiArmAbove), J_node, title=\"\\$\\\\vec k_1 = (0,-\\\\pi), W=$W_val\\$\", c=:thermal)\n",
    "    p2 = heatmap(1:(num_kspace_half+1), 1:length(FermiArmAbove), J_midway, title=\"\\$\\\\vec k_1 = (-\\\\pi/4,-3\\\\pi/4), W=$W_val\\$\", c=:thermal)\n",
    "    p3 = heatmap(1:(num_kspace_half+1), 1:length(FermiArmAbove), J_antinodeD, title=\"\\$\\\\vec k_1 = (-\\\\pi/2,-\\\\pi/2), W=$W_val\\$\", c=:thermal)\n",
    "    p= plot(p1, p2, p3, size=(400, 200 * 3), layout=(3, 1),\n",
    "    titlefontsize=10, topmargin=-2mm, bottommargin=-2mm, leftmargin=3mm, rightmargin=3mm)\n",
    "    savefig(p, \"figCombined_$W_val.pdf\")\n",
    "    p1 = heatmap(1:(num_kspace_half+1), 1:length(FermiArmAbove), log10.(abs.(J_node)), title=\"\\$\\\\vec k_1 = (0,-\\\\pi), W=$W_val\\$\", c=:thermal)\n",
    "    p2 = heatmap(1:(num_kspace_half+1), 1:length(FermiArmAbove), log10.(abs.(J_midway)), title=\"\\$\\\\vec k_1 = (-\\\\pi/4,-3\\\\pi/4), W=$W_val\\$\", c=:thermal)\n",
    "    p3 = heatmap(1:(num_kspace_half+1), 1:length(FermiArmAbove), log10.(abs.(J_antinodeD)), title=\"\\$\\\\vec k_1 = (-\\\\pi/2,-\\\\pi/2), W=$W_val\\$\", c=:thermal)\n",
    "    p= plot(p1, p2, p3, size=(400, 200 * 3), layout=(3, 1),\n",
    "    titlefontsize=10, topmargin=-2mm, bottommargin=-2mm, leftmargin=3mm, rightmargin=3mm)\n",
    "    savefig(p, \"figCombined_abs_$W_val.pdf\")\n",
    "end"
   ]
  }
 ],
 "metadata": {
  "kernelspec": {
   "display_name": "Julia 1.9.0",
   "language": "julia",
   "name": "julia-1.9"
  },
  "language_info": {
   "file_extension": ".jl",
   "mimetype": "application/julia",
   "name": "julia",
   "version": "1.10.0"
  },
  "vscode": {
   "interpreter": {
    "hash": "e7370f93d1d0cde622a1f8e1c04877d8463912d04d973331ad4851f04de6915a"
   }
  },
  "widgets": {
   "application/vnd.jupyter.widget-state+json": {
    "state": {},
    "version_major": 2,
    "version_minor": 0
   }
  }
 },
 "nbformat": 4,
 "nbformat_minor": 5
}
