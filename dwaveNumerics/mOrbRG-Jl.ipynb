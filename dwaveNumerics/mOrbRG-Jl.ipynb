{
 "cells": [
  {
   "cell_type": "code",
   "execution_count": null,
   "id": "floating-capitol",
   "metadata": {
    "tags": []
   },
   "outputs": [],
   "source": [
    "#### IMPORTS ####\n",
    "include(\"source/main.jl\")"
   ]
  },
  {
   "cell_type": "code",
   "execution_count": null,
   "id": "fbac02bd-f874-4aeb-89d9-0c212cfd9a49",
   "metadata": {},
   "outputs": [],
   "source": [
    "manager(25, 0.1, collect(-0.02:-0.055:-0.13), [\"p\", \"p\"], [\"scattProb\", \"kondoCoupFSMap\", \"kondoCoupMidwayMap\"], figScale=1.)\n",
    "manager(25, 0.1, collect(-0.02:-0.055:-0.13), [\"poff\", \"poff\"], [\"scattProb\", \"kondoCoupFSMap\", \"kondoCoupMidwayMap\"], figScale=1.)\n"
   ]
  },
  {
   "cell_type": "code",
   "execution_count": null,
   "id": "d5a8eb54-f93c-4de9-ac61-b75a276bbb44",
   "metadata": {},
   "outputs": [],
   "source": []
  }
 ],
 "metadata": {
  "kernelspec": {
   "display_name": "Julia 1.9.0",
   "language": "julia",
   "name": "julia-1.9"
  },
  "language_info": {
   "file_extension": ".jl",
   "mimetype": "application/julia",
   "name": "julia",
   "version": "1.10.2"
  },
  "vscode": {
   "interpreter": {
    "hash": "e7370f93d1d0cde622a1f8e1c04877d8463912d04d973331ad4851f04de6915a"
   }
  },
  "widgets": {
   "application/vnd.jupyter.widget-state+json": {
    "state": {},
    "version_major": 2,
    "version_minor": 0
   }
  }
 },
 "nbformat": 4,
 "nbformat_minor": 5
}
