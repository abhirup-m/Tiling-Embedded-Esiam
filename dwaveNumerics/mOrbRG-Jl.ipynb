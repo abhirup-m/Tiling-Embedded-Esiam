{
 "cells": [
  {
   "cell_type": "code",
   "execution_count": null,
   "id": "floating-capitol",
   "metadata": {
    "tags": []
   },
   "outputs": [],
   "source": [
    "#### IMPORTS ####\n",
    "using ProgressMeter\n",
    "using Plots, Measures\n",
    "using LaTeXStrings\n",
    "# using NPZ\n",
    "theme(:default)\n",
    "include(\"source/mOrbRG.jl\")\n",
    "include(\"source/helpers.jl\")\n",
    "include(\"source/probes.jl\")"
   ]
  },
  {
   "cell_type": "code",
   "execution_count": null,
   "id": "4ff0606f-d3a2-43d2-9a12-8f403b18e299",
   "metadata": {},
   "outputs": [],
   "source": [
    "function getRgFlow(num_kspace_half, J_val, W_by_J_val_range)\n",
    "    num_kspace = 2 * num_kspace_half + 1\n",
    "    W_val_range = J_val .* W_by_J_val_range\n",
    "    for orbs in [\"p\"]\n",
    "        allplots_global = []\n",
    "        for (j, W_val) in collect(enumerate(W_val_range))\n",
    "            kondoJArray, dispersionArray = main(num_kspace_half, J_val, W_val, orbs)\n",
    "            # println(round.(kondoJArray[:,:,2], digits=2))\n",
    "            # println(\"---\")\n",
    "            # println(round.(kondoJArray[:,:,end], digits=2))\n",
    "            results = getGlobalFlow(kondoJArray, num_kspace_half, 1)\n",
    "            push!(allplots_global, heatmap(results,\n",
    "                    title=\"\\$W=$(round(W_val, digits=3)), \\\\quad J=$(round(J_val, digits=2)), \\\\quad \\\\mathrm{($(orbs)-wave)}\\$\",\n",
    "                    c=:oxy,\n",
    "                    # xscale=:log10\n",
    "                    )\n",
    "            )\n",
    "            results = getGlobalFlow(kondoJArray, num_kspace_half, Int(num_kspace_half / 2))\n",
    "            push!(allplots_global, heatmap(results,\n",
    "                    title=\"\\$W=$(round(W_val, digits=3)), \\\\quad J=$(round(J_val, digits=2)), \\\\quad \\\\mathrm{($(orbs)-wave)}\\$\",\n",
    "                    c=:oxy,\n",
    "                    # xscale=:log10\n",
    "                    )\n",
    "            )\n",
    "            results = getGlobalFlow(kondoJArray, num_kspace_half, num_kspace_half)\n",
    "            push!(allplots_global, heatmap(log10.(results),\n",
    "                    title=\"\\$W=$(round(W_val, digits=3)), \\\\quad J=$(round(J_val, digits=2)), \\\\quad \\\\mathrm{($(orbs)-wave)}\\$\",\n",
    "                    c=:oxy,\n",
    "                    # xscale=:log10\n",
    "                    )\n",
    "            )\n",
    "        end\n",
    "        \n",
    "        num_columns = div(length(allplots_global), length(W_val_range))\n",
    "        globalplot = plot(allplots_global..., layout=(length(W_val_range), num_columns), \n",
    "            size=(500*num_columns, 400*length(W_val_range)), \n",
    "            titlefontsize=10, topmargin=2mm, bottommargin=4mm, leftmargin=3mm, rightmargin=3mm,\n",
    "            thickness_scaling=1.5, xlabel=\"RG step\\$\\\\rightarrow\\$\", ylabel=\"\\$\\\\vec k_2\\$\")\n",
    "        display(globalplot)\n",
    "    end\n",
    "end\n",
    "\n",
    "getRgFlow(18, 0.1, [0, -0.02, -1])"
   ]
  },
  {
   "cell_type": "code",
   "execution_count": null,
   "id": "0f5ac043-7eca-43d1-9130-e1f586afa02c",
   "metadata": {},
   "outputs": [],
   "source": []
  }
 ],
 "metadata": {
  "kernelspec": {
   "display_name": "Julia 1.9.0",
   "language": "julia",
   "name": "julia-1.9"
  },
  "language_info": {
   "file_extension": ".jl",
   "mimetype": "application/julia",
   "name": "julia",
   "version": "1.10.2"
  },
  "vscode": {
   "interpreter": {
    "hash": "e7370f93d1d0cde622a1f8e1c04877d8463912d04d973331ad4851f04de6915a"
   }
  },
  "widgets": {
   "application/vnd.jupyter.widget-state+json": {
    "state": {},
    "version_major": 2,
    "version_minor": 0
   }
  }
 },
 "nbformat": 4,
 "nbformat_minor": 5
}
