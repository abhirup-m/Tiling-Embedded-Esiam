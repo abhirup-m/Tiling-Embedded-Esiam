{
 "cells": [
  {
   "cell_type": "code",
   "execution_count": null,
   "id": "floating-capitol",
   "metadata": {
    "tags": []
   },
   "outputs": [],
   "source": [
    "#### IMPORTS ####\n",
    "using ProgressMeter\n",
    "using Plots \n",
    "using Measures\n",
    "using LaTeXStrings\n",
    "using DelimitedFiles\n",
    "# using NPZ\n",
    "include(\"source/mOrbRG.jl\")\n",
    "include(\"source/helpers.jl\")\n",
    "include(\"source/probes.jl\")\n",
    "const SIZE = (750,300)\n",
    "scale = 1.5\n",
    "discreteCgrad = cgrad(:BuPu_3, 3, categorical = true, rev=true)\n",
    "animName(orbital, num_kspace, scale) = \"kondoUb_kspaceRG_$(orbital)_wave_$(num_kspace)_$(SIZE[1] * scale)x$(SIZE[2] * scale)\""
   ]
  },
  {
   "cell_type": "code",
   "execution_count": null,
   "id": "4ff0606f-d3a2-43d2-9a12-8f403b18e299",
   "metadata": {},
   "outputs": [],
   "source": [
    "function getRgFlow(num_kspace_half, J_val, W_by_J_range, orbitals)\n",
    "    num_kspace = 2 * num_kspace_half + 1\n",
    "    k_vals = collect(range(K_MIN, K_MAX, length=num_kspace)) ./ pi\n",
    "    for orbital in orbitals\n",
    "        for (j, W_by_J) in collect(enumerate(W_by_J_range))\n",
    "            savePath = \"data/$(orbital)_$(num_kspace_half)_$(round(J_val, digits=3))_$(round(W_by_J, digits=3))\"\n",
    "            kondoJArray, dispersionArray = main(num_kspace_half, J_val, J_val * W_by_J, orbital)\n",
    "            anim = @animate for stepIndex in 1:num_kspace_half+1\n",
    "                results_norm, results_unnorm = getGlobalFlow(kondoJArray, num_kspace_half, stepIndex, savePath)\n",
    "                results_bool = getGlobalFlowBool(kondoJArray, num_kspace_half, stepIndex, savePath*\"-bool\")\n",
    "                println(log10.(results_unnorm))\n",
    "                # hm1 = heatmap(k_vals, k_vals, results_bool, \n",
    "                #     cmap=discreteCgrad)\n",
    "                hm1 = heatmap(k_vals, k_vals, reshape(kondoJArray[3,:,stepIndex], (num_kspace, num_kspace)),\n",
    "                    cmap=:matter)\n",
    "                hm2 = heatmap(k_vals, k_vals, log10.(results_unnorm),\n",
    "                    cmap=:matter)\n",
    "                p = plot(hm1, hm2, size=SIZE, \n",
    "                    plot_title=\"\\$W/J=$(round(W_by_J, digits=3)),\\\\quad \\\\mathrm{step=$(stepIndex)}\\$\", \n",
    "                    top_margin=3mm, left_margin=[5mm 10mm], bottom_margin=5mm,\n",
    "                    xlabel=\"\\$ \\\\mathrm{k_x/\\\\pi} \\$\", ylabel=\"\\$ \\\\mathrm{k_y/\\\\pi} \\$\",\n",
    "                    dpi=100 * scale\n",
    "                )\n",
    "                savefig(p, \"fig_$(stepIndex).pdf\")\n",
    "            end\n",
    "            gif(anim, animName(orbital, num_kspace, scale) * \".gif\", fps=1)\n",
    "            gif(anim, animName(orbital, num_kspace, scale) * \".mp4\", fps=1)\n",
    "        end\n",
    "        \n",
    "    end\n",
    "\n",
    "end\n",
    "\n",
    "getRgFlow(2, 2., [0], [\"p\"])"
   ]
  }
 ],
 "metadata": {
  "kernelspec": {
   "display_name": "Julia 1.9.0",
   "language": "julia",
   "name": "julia-1.9"
  },
  "language_info": {
   "file_extension": ".jl",
   "mimetype": "application/julia",
   "name": "julia",
   "version": "1.10.2"
  },
  "vscode": {
   "interpreter": {
    "hash": "e7370f93d1d0cde622a1f8e1c04877d8463912d04d973331ad4851f04de6915a"
   }
  },
  "widgets": {
   "application/vnd.jupyter.widget-state+json": {
    "state": {},
    "version_major": 2,
    "version_minor": 0
   }
  }
 },
 "nbformat": 4,
 "nbformat_minor": 5
}
