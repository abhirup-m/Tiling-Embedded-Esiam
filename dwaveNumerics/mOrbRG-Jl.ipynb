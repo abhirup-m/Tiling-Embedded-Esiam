{
 "cells": [
  {
   "cell_type": "code",
   "execution_count": null,
   "id": "floating-capitol",
   "metadata": {
    "tags": []
   },
   "outputs": [],
   "source": [
    "#### IMPORTS ####\n",
    "using ProgressMeter\n",
    "using Plots \n",
    "using Measures\n",
    "using LaTeXStrings\n",
    "using DelimitedFiles\n",
    "# using NPZ\n",
    "include(\"source/mOrbRG.jl\")\n",
    "include(\"source/helpers.jl\")\n",
    "include(\"source/probes.jl\")\n",
    "const SIZE = (750,300)\n",
    "scale = 1\n",
    "discreteCgrad = cgrad(:BuPu_3, 3, categorical = true, rev=true)"
   ]
  },
  {
   "cell_type": "code",
   "execution_count": null,
   "id": "4ff0606f-d3a2-43d2-9a12-8f403b18e299",
   "metadata": {},
   "outputs": [],
   "source": [
    "function getRgFlow(num_kspace_half, J_val, W_by_J_range, orbitals)\n",
    "    num_kspace = 2 * num_kspace_half + 1\n",
    "    k_vals = collect(range(K_MIN, K_MAX, length=num_kspace)) ./ pi\n",
    "    for orbital in orbitals\n",
    "        anim = @animate for (j, W_by_J) in collect(enumerate(W_by_J_range))\n",
    "            savePath = \"data/$(orbital)_$(num_kspace_half)_$(round(J_val, digits=3))_$(round(W_by_J, digits=3))\"\n",
    "            if !isfile(savePath)\n",
    "                kondoJArray, dispersionArray = main(num_kspace_half, J_val, J_val * W_by_J, orbital)\n",
    "                results = getGlobalFlow(kondoJArray, num_kspace_half, num_kspace_half, savePath)\n",
    "                results_bool = getGlobalFlowBool(kondoJArray, num_kspace_half, num_kspace_half, savePath*\"-bool\")\n",
    "            else\n",
    "                results = readdlm(savePath)\n",
    "                results_bool = readdlm(savePath*\"-bool\")\n",
    "            end\n",
    "            hm1 = heatmap(k_vals, k_vals, results_bool, \n",
    "                cmap=discreteCgrad, colorbar_ticks=[1, 0, -1])\n",
    "            hm2 = heatmap(log10.(results), cmap=:diverging_bkr_55_10_c35_n256)\n",
    "            p = plot(hm1, hm2, size=SIZE, \n",
    "                plot_title=\"\\$W/J=$(round(W_by_J, digits=3))\\$\", \n",
    "                top_margin=3mm, left_margin=[5mm 10mm], bottom_margin=5mm,\n",
    "                xlabel=\"\\$ \\\\mathrm{k_x/\\\\pi} \\$\", ylabel=\"\\$ \\\\mathrm{k_y/\\\\pi} \\$\",\n",
    "                dpi=100 * scale\n",
    "            )\n",
    "        end\n",
    "        gif(anim, \"kondoUb_kspaceRG_$(orbital)_wave_$(num_kspace)_$(SIZE[1] * scale)x$(SIZE[2] * scale).gif\", fps=2)\n",
    "        gif(anim, \"kondoUb_kspaceRG_$(orbital)_wave_$(num_kspace)_$(SIZE[1] * scale)x$(SIZE[2] * scale).mp4\", fps=2)\n",
    "    end\n",
    "\n",
    "end\n",
    "\n",
    "getRgFlow(4, 0.2, -0.01:-0.001:-0.05, [\"p\"])"
   ]
  }
 ],
 "metadata": {
  "kernelspec": {
   "display_name": "Julia 1.10.2",
   "language": "julia",
   "name": "julia-1.10"
  },
  "language_info": {
   "file_extension": ".jl",
   "mimetype": "application/julia",
   "name": "julia",
   "version": "1.10.2"
  },
  "vscode": {
   "interpreter": {
    "hash": "e7370f93d1d0cde622a1f8e1c04877d8463912d04d973331ad4851f04de6915a"
   }
  },
  "widgets": {
   "application/vnd.jupyter.widget-state+json": {
    "state": {},
    "version_major": 2,
    "version_minor": 0
   }
  }
 },
 "nbformat": 4,
 "nbformat_minor": 5
}
