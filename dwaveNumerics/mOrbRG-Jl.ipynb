{
 "cells": [
  {
   "cell_type": "code",
   "execution_count": null,
   "id": "floating-capitol",
   "metadata": {
    "tags": []
   },
   "outputs": [],
   "source": [
    "#### IMPORTS ####\n",
    "using Plots \n",
    "using Measures\n",
    "using LaTeXStrings\n",
    "using DelimitedFiles\n",
    "# using NPZ\n",
    "include(\"source/mOrbRG.jl\")\n",
    "include(\"source/probes.jl\")\n",
    "const SIZE = (750,300)\n",
    "scale = 1.5"
   ]
  },
  {
   "cell_type": "code",
   "execution_count": null,
   "id": "fbac02bd-f874-4aeb-89d9-0c212cfd9a49",
   "metadata": {},
   "outputs": [],
   "source": [
    "function getRgFlow(size_BZ, J_val, W_by_J_range, orbitals)\n",
    "    num_kspace_half = trunc(Int, (size_BZ - 1)/2)\n",
    "    num_kspace = 2 * num_kspace_half + 1\n",
    "    node = trunc(Int64, 0.5 * num_kspace_half * (num_kspace + 1) + 1)\n",
    "    antinode = trunc(Int64, num_kspace_half + 1)\n",
    "    k_vals = collect(range(K_MIN, K_MAX, length=num_kspace)) ./ pi\n",
    "    results1_arr = zeros((length(W_by_J_range), num_kspace^2))\n",
    "    results2_arr = zeros((length(W_by_J_range), num_kspace^2))\n",
    "    results3_arr = zeros((length(W_by_J_range), num_kspace^2))\n",
    "    results4_arr = zeros((length(W_by_J_range), num_kspace^2))\n",
    "    for (j, W_by_J) in collect(enumerate(W_by_J_range))\n",
    "        savePath = \"data/$(orbitals[1])_$(num_kspace_half)_$(round(J_val, digits=3))_$(round(W_by_J, digits=3))\"\n",
    "        kondoJArray, dispersionArray = main(num_kspace_half, J_val, J_val * W_by_J, orbitals[1], orbitals[2])\n",
    "\n",
    "        results_norm, results_unnorm, results_bool = totalScatterProb(kondoJArray, num_kspace_half+1, savePath)\n",
    "        results1_arr[j,:] = results_bool\n",
    "        results2_arr[j,:] = results_norm\n",
    "        results3_arr[j,:] = kondoJArray[node, :, end]\n",
    "        results4_arr[j,:] = kondoJArray[antinode, :, end]\n",
    "    end\n",
    "    max_r = maximum(log10.(results2_arr))\n",
    "    min_r = minimum(log10.(results2_arr))\n",
    "    pdfFileNames = []\n",
    "    anim = @animate for (j, W_by_J) in enumerate(W_by_J_range)\n",
    "        hm1 = heatmap(k_vals, k_vals, reshape(results1_arr[j,:], (num_kspace, num_kspace)), \n",
    "            cmap=discreteCgrad)\n",
    "        hm2 = heatmap(k_vals, k_vals, reshape(log10.(results2_arr[j,:]), (num_kspace, num_kspace)),\n",
    "            cmap=:matter, clims=(min_r, max_r))\n",
    "        p = plot(hm1, hm2, size=SIZE, \n",
    "            plot_title=\"\\$W/J=$(round(W_by_J, digits=3))\\$\", \n",
    "            top_margin=3mm, left_margin=[5mm 10mm], bottom_margin=5mm,\n",
    "            xlabel=\"\\$ \\\\mathrm{k_x/\\\\pi} \\$\", ylabel=\"\\$ \\\\mathrm{k_y/\\\\pi} \\$\",\n",
    "            dpi=100 * scale\n",
    "        )\n",
    "        pdfFileName = \"fig_$(j).pdf\"\n",
    "        savefig(pdfFileName)\n",
    "        push!(pdfFileNames, pdfFileName)\n",
    "    end\n",
    "    run(`pdfunite $pdfFileNames fig_combined.pdf`)\n",
    "    run(`rm $pdfFileNames`)\n",
    "    gif(anim, animName(orbitals[1], num_kspace, scale, 1) * \".gif\", fps=0.5)\n",
    "    gif(anim, animName(orbitals[1], num_kspace, scale, 1) * \".mp4\", fps=0.5)\n",
    "    \n",
    "    pdfFileNames = []\n",
    "    anim = @animate for (j, W_by_J) in enumerate(W_by_J_range)\n",
    "        hm1 = heatmap(k_vals, k_vals, reshape(results3_arr[j,:], (num_kspace, num_kspace)), \n",
    "            cmap=:matter)\n",
    "        hm2 = heatmap(k_vals, k_vals, reshape(results4_arr[j,:], (num_kspace, num_kspace)),\n",
    "            cmap=:matter)\n",
    "        scatter!(hm1, [-1/2], [-1/2], markersize=6, markercolor=:grey, markerstrokecolor=:white, markerstrokewidth=4)\n",
    "        scatter!(hm2, [0], [-1], markersize=6, markercolor=:grey, markerstrokecolor=:white, markerstrokewidth=4)\n",
    "        p = plot(hm1, hm2, size=SIZE, \n",
    "            plot_title=\"\\$W/J=$(round(W_by_J, digits=3))\\$\", \n",
    "            top_margin=3mm, left_margin=[5mm 10mm], bottom_margin=5mm,\n",
    "            xlabel=\"\\$ \\\\mathrm{k_x/\\\\pi} \\$\", ylabel=\"\\$ \\\\mathrm{k_y/\\\\pi} \\$\",\n",
    "            dpi=100 * scale, legend=false\n",
    "        )\n",
    "        pdfFileName = \"fig_$(j).pdf\"\n",
    "        savefig(pdfFileName)\n",
    "        push!(pdfFileNames, pdfFileName)\n",
    "    end\n",
    "    run(`pdfunite $pdfFileNames fig_combined_nesting.pdf`)\n",
    "    run(`rm $pdfFileNames`)\n",
    "    gif(anim, animName(orbitals[1], num_kspace, scale, 1) * \"_nesting.gif\", fps=0.5)\n",
    "    gif(anim, animName(orbitals[1], num_kspace, scale, 1) * \"_nesting.mp4\", fps=0.5);\n",
    "end\n",
    "\n",
    "# getRgFlow(29, 1., 0:-0.05:-0.2, [\"p\", \"p\"])\n",
    "manager(43, 0.1, collect(0:-0.02:-0.12), [\"p\", \"p\"], [\"scattProb\", \"kondoCoupFSMap\", \"kondoCoupDiagMap\"], 2.)"
   ]
  },
  {
   "cell_type": "code",
   "execution_count": null,
   "id": "8d3f3a0c-0e6c-420f-a5ba-c65dc1d0951b",
   "metadata": {},
   "outputs": [],
   "source": []
  }
 ],
 "metadata": {
  "kernelspec": {
   "display_name": "Julia 1.9.0",
   "language": "julia",
   "name": "julia-1.9"
  },
  "language_info": {
   "file_extension": ".jl",
   "mimetype": "application/julia",
   "name": "julia",
   "version": "1.10.2"
  },
  "vscode": {
   "interpreter": {
    "hash": "e7370f93d1d0cde622a1f8e1c04877d8463912d04d973331ad4851f04de6915a"
   }
  },
  "widgets": {
   "application/vnd.jupyter.widget-state+json": {
    "state": {},
    "version_major": 2,
    "version_minor": 0
   }
  }
 },
 "nbformat": 4,
 "nbformat_minor": 5
}
