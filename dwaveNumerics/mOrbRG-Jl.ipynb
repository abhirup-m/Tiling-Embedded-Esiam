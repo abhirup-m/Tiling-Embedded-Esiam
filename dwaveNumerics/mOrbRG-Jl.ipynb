{
 "cells": [
  {
   "cell_type": "code",
   "execution_count": null,
   "id": "floating-capitol",
   "metadata": {
    "tags": []
   },
   "outputs": [],
   "source": [
    "#### IMPORTS ####\n",
    "include(\"source/main.jl\")"
   ]
  },
  {
   "cell_type": "code",
   "execution_count": null,
   "id": "fbac02bd-f874-4aeb-89d9-0c212cfd9a49",
   "metadata": {},
   "outputs": [],
   "source": [
    "manager(23, 0.1, collect(0:-0.06:-0.12), [\"poff\", \"poff\"], [\"scattProb\", \"kondoCoupFSMap\", \"kondoCoupDiagMap\"], figScale=6.)\n",
    "# manager(37, 0.1, collect(0:-0.06:-0.12), [\"p\", \"p\"], [\"scattProb\", \"kondoCoupFSMap\", \"kondoCoupDiagMap\"], figScale=6.)\n",
    "# manager(37, 0.1, collect(0:-0.04:-0.12), [\"p\", \"p\"], [\"scattProb\", \"kondoCoupFSMap\", \"kondoCoupDiagMap\"])\n",
    "# manager(43, 0.1, collect(0:-0.02:-0.12), [\"p\", \"p\"], [\"scattProb\", \"kondoCoupFSMap\", \"kondoCoupDiagMap\"], 2.)"
   ]
  }
 ],
 "metadata": {
  "kernelspec": {
   "display_name": "Julia 1.9.0",
   "language": "julia",
   "name": "julia-1.9"
  },
  "language_info": {
   "file_extension": ".jl",
   "mimetype": "application/julia",
   "name": "julia",
   "version": "1.10.2"
  },
  "vscode": {
   "interpreter": {
    "hash": "e7370f93d1d0cde622a1f8e1c04877d8463912d04d973331ad4851f04de6915a"
   }
  },
  "widgets": {
   "application/vnd.jupyter.widget-state+json": {
    "state": {},
    "version_major": 2,
    "version_minor": 0
   }
  }
 },
 "nbformat": 4,
 "nbformat_minor": 5
}
