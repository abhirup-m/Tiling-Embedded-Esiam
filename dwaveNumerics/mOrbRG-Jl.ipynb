{
 "cells": [
  {
   "cell_type": "code",
   "execution_count": null,
   "id": "floating-capitol",
   "metadata": {
    "tags": []
   },
   "outputs": [],
   "source": [
    "#### IMPORTS ####\n",
    "using ProgressMeter\n",
    "using Plots \n",
    "using Measures\n",
    "using LaTeXStrings\n",
    "using DelimitedFiles\n",
    "# using NPZ\n",
    "include(\"source/mOrbRG.jl\")\n",
    "include(\"source/probes.jl\")\n",
    "const SIZE = (750,300)\n",
    "scale = 1.5\n",
    "discreteCgrad = cgrad(:BuPu_3, 3, categorical = true, rev=true)\n",
    "animName(orbital, num_kspace, scale, W_by_J) = \"kondoUb_kspaceRG_$(orbital)_wave_$(num_kspace)_$(round(W_by_J, digits=3))_$(SIZE[1] * scale)x$(SIZE[2] * scale)\""
   ]
  },
  {
   "cell_type": "code",
   "execution_count": null,
   "id": "4ff0606f-d3a2-43d2-9a12-8f403b18e299",
   "metadata": {},
   "outputs": [],
   "source": [
    "function getRgFlow(num_kspace_half, J_val, W_by_J_range, orbitals)\n",
    "    num_kspace = 2 * num_kspace_half + 1\n",
    "    k_vals = collect(range(K_MIN, K_MAX, length=num_kspace)) ./ pi\n",
    "    results1_arr = zeros((length(W_by_J_range), num_kspace^2))\n",
    "    results2_arr = zeros((length(W_by_J_range), num_kspace^2))\n",
    "    for (j, W_by_J) in collect(enumerate(W_by_J_range))\n",
    "        savePath = \"data/$(orbitals[1])_$(num_kspace_half)_$(round(J_val, digits=3))_$(round(W_by_J, digits=3))\"\n",
    "        kondoJArray, dispersionArray = main(num_kspace_half, J_val, J_val * W_by_J, orbitals[1], orbitals[2])\n",
    "        results_norm, results_unnorm, results_bool = totalScatterProb(kondoJArray, num_kspace_half+1, savePath)\n",
    "        results1_arr[j,:] = results_bool\n",
    "        results2_arr[j,:] = results_unnorm\n",
    "    end\n",
    "    max_r = maximum(log10.(results2_arr))\n",
    "    min_r = minimum(log10.(results2_arr))\n",
    "    pdfFileNames = []\n",
    "\n",
    "    anim = @animate for (j, W_by_J) in enumerate(W_by_J_range)\n",
    "        println()\n",
    "        hm1 = heatmap(k_vals, k_vals, reshape(results1_arr[j,:], (num_kspace, num_kspace)), \n",
    "            cmap=discreteCgrad)\n",
    "        hm2 = heatmap(k_vals, k_vals, reshape(log10.(results2_arr[j,:]), (num_kspace, num_kspace)),\n",
    "            cmap=:matter, clims=(min_r, max_r))\n",
    "        p = plot(hm1, hm2, size=SIZE, \n",
    "            plot_title=\"\\$W/J=$(round(W_by_J, digits=3))\\$\", \n",
    "            top_margin=3mm, left_margin=[5mm 10mm], bottom_margin=5mm,\n",
    "            xlabel=\"\\$ \\\\mathrm{k_x/\\\\pi} \\$\", ylabel=\"\\$ \\\\mathrm{k_y/\\\\pi} \\$\",\n",
    "            dpi=100 * scale\n",
    "        )\n",
    "        pdfFileName = \"fig_$(j).pdf\"\n",
    "        savefig(pdfFileName)\n",
    "        push!(pdfFileNames, pdfFileName)\n",
    "    end\n",
    "    run(`pdfunite $pdfFileNames fig_combined.pdf`)\n",
    "    run(`rm $pdfFileNames`)\n",
    "    gif(anim, animName(orbitals[1], num_kspace, scale, 1) * \".gif\", fps=0.5)\n",
    "    gif(anim, animName(orbitals[1], num_kspace, scale, 1) * \".mp4\", fps=0.5);\n",
    "end\n",
    "\n",
    "getRgFlow(10, 0.1, 0:-0.02:-0.06, [\"p\", \"p\"])"
   ]
  },
  {
   "cell_type": "code",
   "execution_count": null,
   "id": "3aceab3b-e080-4edd-908e-222295e26379",
   "metadata": {},
   "outputs": [],
   "source": [
    "LOAD_PATH"
   ]
  },
  {
   "cell_type": "code",
   "execution_count": null,
   "id": "ce694ff6-2c22-47aa-b3ad-47ebc6af915b",
   "metadata": {},
   "outputs": [],
   "source": []
  }
 ],
 "metadata": {
  "kernelspec": {
   "display_name": "Julia 1.9.0",
   "language": "julia",
   "name": "julia-1.9"
  },
  "language_info": {
   "file_extension": ".jl",
   "mimetype": "application/julia",
   "name": "julia",
   "version": "1.10.2"
  },
  "vscode": {
   "interpreter": {
    "hash": "e7370f93d1d0cde622a1f8e1c04877d8463912d04d973331ad4851f04de6915a"
   }
  },
  "widgets": {
   "application/vnd.jupyter.widget-state+json": {
    "state": {},
    "version_major": 2,
    "version_minor": 0
   }
  }
 },
 "nbformat": 4,
 "nbformat_minor": 5
}
