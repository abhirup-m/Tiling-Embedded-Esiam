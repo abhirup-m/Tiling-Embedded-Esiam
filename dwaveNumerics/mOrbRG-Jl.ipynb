{
 "cells": [
  {
   "cell_type": "code",
   "execution_count": null,
   "id": "floating-capitol",
   "metadata": {
    "tags": []
   },
   "outputs": [],
   "source": [
    "#### IMPORTS ####\n",
    "include(\"source/main.jl\")"
   ]
  },
  {
   "cell_type": "code",
   "execution_count": null,
   "id": "3a92a8d1-b93e-4904-a72f-54444d8c85fe",
   "metadata": {},
   "outputs": [],
   "source": [
    "manager(49, 0.1, collect(-0.0:-0.1:-0.2), [\"p\", \"p\"], [\"scattProb\", \"kondoCoupNodeMap\", \"kondoCoupAntinodeMap\"], figScale=1.)\n",
    "# manager(21, 0.2, collect(-0.39:-0.01:-0.41), [\"p\", \"p\"], [\"scattProb\"], figScale=1.)\n",
    "# manager(41, 0.2, collect(-0.397:-0.002:-0.41), [\"p\", \"p\"], [\"scattProb\"], figScale=1.)\n",
    "# manager(45, 0.2, collect(-0.39:-0.01:-0.41), [\"p\", \"p\"], [\"scattProb\"], figScale=1.)\n",
    "\n",
    "# manager(25, 0.1, collect(-0.0:-0.1:-0.4), [\"poff\", \"poff\"], [\"scattProb\", \"kondoCoupOffNodeMap\", \"kondoCoupOffAntinodeMap\"], figScale=1.)"
   ]
  },
  {
   "cell_type": "code",
   "execution_count": null,
   "id": "5b0f7067-eb4d-42f8-a958-f475a6b64836",
   "metadata": {},
   "outputs": [],
   "source": []
  }
 ],
 "metadata": {
  "kernelspec": {
   "display_name": "Julia 1.9.0",
   "language": "julia",
   "name": "julia-1.9"
  },
  "language_info": {
   "file_extension": ".jl",
   "mimetype": "application/julia",
   "name": "julia",
   "version": "1.10.2"
  },
  "vscode": {
   "interpreter": {
    "hash": "e7370f93d1d0cde622a1f8e1c04877d8463912d04d973331ad4851f04de6915a"
   }
  },
  "widgets": {
   "application/vnd.jupyter.widget-state+json": {
    "state": {},
    "version_major": 2,
    "version_minor": 0
   }
  }
 },
 "nbformat": 4,
 "nbformat_minor": 5
}
