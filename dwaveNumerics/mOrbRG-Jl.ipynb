{
 "cells": [
  {
   "cell_type": "code",
   "execution_count": 11,
   "id": "floating-capitol",
   "metadata": {
    "tags": []
   },
   "outputs": [
    {
     "name": "stderr",
     "output_type": "stream",
     "text": [
      "WARNING: redefinition of constant Main.SIZE_BZ. This may fail, cause incorrect answers, or produce other errors.\n",
      "WARNING: redefinition of constant Main.KX_VALUES. This may fail, cause incorrect answers, or produce other errors.\n",
      "WARNING: redefinition of constant Main.KY_VALUES. This may fail, cause incorrect answers, or produce other errors.\n",
      "WARNING: redefinition of constant Main.FS_POINTS. This may fail, cause incorrect answers, or produce other errors.\n",
      "WARNING: redefinition of constant Main.FS_POINTS_LEFT. This may fail, cause incorrect answers, or produce other errors.\n",
      "WARNING: redefinition of constant Main.CENTER_POINTS. This may fail, cause incorrect answers, or produce other errors.\n",
      "WARNING: redefinition of constant Main.CORNER_POINTS. This may fail, cause incorrect answers, or produce other errors.\n",
      "WARNING: redefinition of constant Main.OUTSIDE_POINTS. This may fail, cause incorrect answers, or produce other errors.\n",
      "WARNING: redefinition of constant Main.INSIDE_POINTS. This may fail, cause incorrect answers, or produce other errors.\n",
      "WARNING: redefinition of constant Main.PROBE_ENERGIES. This may fail, cause incorrect answers, or produce other errors.\n",
      "WARNING: redefinition of constant Main.PROCEED_FLAGS. This may fail, cause incorrect answers, or produce other errors.\n"
     ]
    },
    {
     "data": {
      "text/plain": [
       "animName (generic function with 1 method)"
      ]
     },
     "execution_count": 11,
     "metadata": {},
     "output_type": "execute_result"
    }
   ],
   "source": [
    "#### IMPORTS ####\n",
    "using ProgressMeter\n",
    "using Plots \n",
    "using Measures\n",
    "using LaTeXStrings\n",
    "using DelimitedFiles\n",
    "# using NPZ\n",
    "include(\"source/mOrbRG.jl\")\n",
    "include(\"source/probes.jl\")\n",
    "const SIZE = (750,300)\n",
    "scale = 1.5\n",
    "discreteCgrad = cgrad(:BuPu_3, 3, categorical = true, rev=true)\n",
    "animName(orbital, num_kspace, scale) = \"kondoUb_kspaceRG_$(orbital)_wave_$(num_kspace)_$(SIZE[1] * scale)x$(SIZE[2] * scale)\""
   ]
  },
  {
   "cell_type": "code",
   "execution_count": 14,
   "id": "4ff0606f-d3a2-43d2-9a12-8f403b18e299",
   "metadata": {},
   "outputs": [
    {
     "name": "stderr",
     "output_type": "stream",
     "text": [
      "\u001b[36m\u001b[1m[ \u001b[22m\u001b[39m\u001b[36m\u001b[1mInfo: \u001b[22m\u001b[39mSaved animation to /home/kirito/storage/work/TilingProject/dwaveNumerics/kondoUb_kspaceRG_p_wave_9_1125.0x450.0.gif\n",
      "\u001b[36m\u001b[1m[ \u001b[22m\u001b[39m\u001b[36m\u001b[1mInfo: \u001b[22m\u001b[39mSaved animation to /home/kirito/storage/work/TilingProject/dwaveNumerics/kondoUb_kspaceRG_p_wave_9_1125.0x450.0.mp4\n"
     ]
    }
   ],
   "source": [
    "function getRgFlow(num_kspace_half, J_val, W_by_J_range, orbitals)\n",
    "    num_kspace = 2 * num_kspace_half + 1\n",
    "    k_vals = collect(range(K_MIN, K_MAX, length=num_kspace)) ./ pi\n",
    "    for orbital in orbitals\n",
    "        for (j, W_by_J) in collect(enumerate(W_by_J_range))\n",
    "            savePath = \"data/$(orbital)_$(num_kspace_half)_$(round(J_val, digits=3))_$(round(W_by_J, digits=3))\"\n",
    "            kondoJArray, dispersionArray = main(num_kspace_half, J_val, J_val * W_by_J, orbital)\n",
    "            anim = @animate for stepIndex in 1:num_kspace_half+1\n",
    "                results_norm, results_unnorm, results_bool = totalScatterProb(kondoJArray, num_kspace, stepIndex, savePath)\n",
    "                # hm1 = heatmap(k_vals, k_vals, results_bool, \n",
    "                #     cmap=discreteCgrad)\n",
    "                hm1 = heatmap(k_vals, k_vals, reshape(kondoJArray[3,:,stepIndex], (num_kspace, num_kspace)),\n",
    "                    cmap=:matter)\n",
    "                hm2 = heatmap(k_vals, k_vals, log10.(results_unnorm),\n",
    "                    cmap=:matter)\n",
    "                p = plot(hm1, hm2, size=SIZE, \n",
    "                    plot_title=\"\\$W/J=$(round(W_by_J, digits=3)),\\\\quad \\\\mathrm{step=$(stepIndex)}\\$\", \n",
    "                    top_margin=3mm, left_margin=[5mm 10mm], bottom_margin=5mm,\n",
    "                    xlabel=\"\\$ \\\\mathrm{k_x/\\\\pi} \\$\", ylabel=\"\\$ \\\\mathrm{k_y/\\\\pi} \\$\",\n",
    "                    dpi=100 * scale\n",
    "                )\n",
    "                savefig(p, \"fig_$(stepIndex).pdf\")\n",
    "            end\n",
    "            gif(anim, animName(orbital, num_kspace, scale) * \".gif\", fps=1)\n",
    "            gif(anim, animName(orbital, num_kspace, scale) * \".mp4\", fps=1)\n",
    "        end\n",
    "        \n",
    "    end\n",
    "\n",
    "end\n",
    "\n",
    "getRgFlow(4, 2., [0], [\"p\"])"
   ]
  },
  {
   "cell_type": "code",
   "execution_count": 36,
   "id": "01f8f7f1-75ec-4c2e-8b44-b42b1306671e",
   "metadata": {},
   "outputs": [
    {
     "data": {
      "text/plain": [
       "3×3 Matrix{Float64}:\n",
       " 0.178343  0.789078  0.734908\n",
       " 0.20886   0.470143  0.078514\n",
       " 0.141559  0.262283  0.324695"
      ]
     },
     "execution_count": 36,
     "metadata": {},
     "output_type": "execute_result"
    }
   ],
   "source": [
    "M = rand(Float64, (3,3))"
   ]
  },
  {
   "cell_type": "code",
   "execution_count": 37,
   "id": "6027bead-2d6d-4f0c-aae1-0846c7f3f433",
   "metadata": {},
   "outputs": [
    {
     "data": {
      "text/plain": [
       "9-element Vector{Float64}:\n",
       " 0.17834259861778656\n",
       " 0.20886034934090458\n",
       " 0.14155922935059784\n",
       " 0.7890775997954708\n",
       " 0.4701427375830358\n",
       " 0.26228313119646673\n",
       " 0.7349079484054621\n",
       " 0.07851398799836973\n",
       " 0.3246945765939532"
      ]
     },
     "execution_count": 37,
     "metadata": {},
     "output_type": "execute_result"
    }
   ],
   "source": [
    "reshape(M, (9))"
   ]
  }
 ],
 "metadata": {
  "kernelspec": {
   "display_name": "Julia 1.9.0",
   "language": "julia",
   "name": "julia-1.9"
  },
  "language_info": {
   "file_extension": ".jl",
   "mimetype": "application/julia",
   "name": "julia",
   "version": "1.10.2"
  },
  "vscode": {
   "interpreter": {
    "hash": "e7370f93d1d0cde622a1f8e1c04877d8463912d04d973331ad4851f04de6915a"
   }
  },
  "widgets": {
   "application/vnd.jupyter.widget-state+json": {
    "state": {},
    "version_major": 2,
    "version_minor": 0
   }
  }
 },
 "nbformat": 4,
 "nbformat_minor": 5
}
