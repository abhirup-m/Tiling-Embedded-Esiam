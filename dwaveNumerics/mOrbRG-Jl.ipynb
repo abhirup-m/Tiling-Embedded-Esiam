{
 "cells": [
  {
   "cell_type": "code",
   "execution_count": null,
   "id": "floating-capitol",
   "metadata": {
    "tags": []
   },
   "outputs": [],
   "source": [
    "#### IMPORTS ####\n",
    "using ProgressMeter\n",
    "using Plots, Measures\n",
    "using LaTeXStrings\n",
    "# using NPZ\n",
    "theme(:default)\n",
    "include(\"multiOrbKondoRGFlow.jl\")\n",
    "include(\"helpers.jl\")\n",
    "include(\"probes.jl\")"
   ]
  },
  {
   "cell_type": "code",
   "execution_count": null,
   "id": "4f3f8f06-a674-4be9-9202-ed10d4e4dfa0",
   "metadata": {},
   "outputs": [],
   "source": [
    "map2DTo1D([0.], [0.], 10)"
   ]
  },
  {
   "cell_type": "code",
   "execution_count": null,
   "id": "4ff0606f-d3a2-43d2-9a12-8f403b18e299",
   "metadata": {},
   "outputs": [],
   "source": [
    "function getRgFlow(num_kspace_half, J_val, W_by_J_val_range)\n",
    "    W_val_range = J_val .* W_by_J_val_range\n",
    "    for orbs in [\"d\"]\n",
    "        allplots_global = []\n",
    "        for (j, W_val) in collect(enumerate(W_val_range))\n",
    "            kondoJArray, dispersionArray = main(num_kspace_half, 1.0, J_val, W_val, orbs)\n",
    "            results = getGlobalFlowBool(kondoJArray, num_kspace_half)\n",
    "            push!(allplots_global, heatmap(results,\n",
    "                    title=\"\\$W=$(round(W_val, digits=3)), \\\\quad J=$(round(J_val, digits=2)), \\\\quad \\\\mathrm{($(orbs)-wave)}\\$\",\n",
    "                    c=:YlOrRd_9,\n",
    "                    # xscale=:log10\n",
    "                    )\n",
    "            )\n",
    "        end\n",
    "        \n",
    "        num_columns = div(length(allplots_global), length(W_val_range))\n",
    "        globalplot = plot(allplots_global..., layout=(length(W_val_range), num_columns), \n",
    "            size=(500*num_columns, 400*length(W_val_range)), \n",
    "            titlefontsize=10, topmargin=2mm, bottommargin=4mm, leftmargin=3mm, rightmargin=3mm,\n",
    "            thickness_scaling=1.5, xlabel=\"RG step\\$\\\\rightarrow\\$\", ylabel=\"\\$\\\\vec k_2\\$\")\n",
    "        display(globalplot)\n",
    "    end\n",
    "end\n",
    "\n",
    "getRgFlow(30, 0.1, [0, 1])"
   ]
  },
  {
   "cell_type": "code",
   "execution_count": null,
   "id": "34e765a4-0f5d-4688-86a7-ef2d193f7866",
   "metadata": {},
   "outputs": [],
   "source": []
  }
 ],
 "metadata": {
  "kernelspec": {
   "display_name": "Julia 1.9.0",
   "language": "julia",
   "name": "julia-1.9"
  },
  "language_info": {
   "file_extension": ".jl",
   "mimetype": "application/julia",
   "name": "julia",
   "version": "1.10.2"
  },
  "vscode": {
   "interpreter": {
    "hash": "e7370f93d1d0cde622a1f8e1c04877d8463912d04d973331ad4851f04de6915a"
   }
  },
  "widgets": {
   "application/vnd.jupyter.widget-state+json": {
    "state": {},
    "version_major": 2,
    "version_minor": 0
   }
  }
 },
 "nbformat": 4,
 "nbformat_minor": 5
}
