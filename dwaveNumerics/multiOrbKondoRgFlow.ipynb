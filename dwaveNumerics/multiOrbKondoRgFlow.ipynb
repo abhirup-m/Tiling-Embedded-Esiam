{
 "cells": [
  {
   "cell_type": "code",
   "execution_count": null,
   "id": "floating-capitol",
   "metadata": {
    "tags": []
   },
   "outputs": [],
   "source": [
    "#### IMPORTS ####\n",
    "using ProgressMeter\n",
    "using Plots, Measures\n",
    "using LaTeXStrings\n",
    "# using NPZ\n",
    "theme(:default)\n",
    "include(\"multiOrbKondoRGFlow.jl\")"
   ]
  },
  {
   "cell_type": "code",
   "execution_count": null,
   "id": "4ff0606f-d3a2-43d2-9a12-8f403b18e299",
   "metadata": {},
   "outputs": [],
   "source": [
    "function getRgFlow(num_kspace_half, J_val, W_by_J_val_range)\n",
    "    W_val_range = J_val .* W_by_J_val_range\n",
    "    for orbs in [\"dp\"]\n",
    "        allplots_forw=[]\n",
    "        allplots_FS=[]\n",
    "        allplots_back=[]\n",
    "        allplots_global = []\n",
    "        for (j, W_val) in collect(enumerate(W_val_range))\n",
    "            kondoJArray, dispersionArray = multiOrbKondoRGFlow(num_kspace_half, 1.0, J_val, W_val, orbs)\n",
    "            results, k_vals = getForwardScattFlow(kondoJArray, num_kspace_half)\n",
    "            for (result, k_val) in zip(eachslice(results; dims=1), k_vals)\n",
    "                push!(allplots_forw, heatmap(log10.(abs.(result)), \n",
    "                        title=\"\\$\\\\vec k_1=($(k_val[1])\\\\pi, $(k_val[2])\\\\pi), \\\\quad W=$(round(W_val, digits=3)), \\\\quad J=$(round(J_val, digits=2))\\$\",\n",
    "                        c=:thermal))\n",
    "            end\n",
    "            results = getInStateScattFlowBool(kondoJArray, num_kspace_half)\n",
    "            # p = plot(results[end,:])\n",
    "            # display(p)\n",
    "            push!(allplots_FS, heatmap(results, \n",
    "                    title=\"\\$W=$(round(W_val, digits=3)), \\\\quad J=$(round(J_val, digits=2))\\$\",\n",
    "                    c=:YlOrRd_9,\n",
    "                    # clims=(0, 1),\n",
    "                    # xscale=:log10\n",
    "                )\n",
    "            )\n",
    "            results = getBackScattFlowBool(kondoJArray, num_kspace_half)\n",
    "            push!(allplots_back, heatmap(results, \n",
    "                    title=\"\\$W=$(round(W_val, digits=3)), \\\\quad J=$(round(J_val, digits=2))\\$\",\n",
    "                    c=:YlOrRd_9,\n",
    "                    # xscale=:log10\n",
    "                    )\n",
    "            )\n",
    "            results = getGlobalFlowBool(kondoJArray, num_kspace_half)\n",
    "            push!(allplots_global, heatmap(results,\n",
    "                    title=\"\\$W=$(round(W_val, digits=3)), \\\\quad J=$(round(J_val, digits=2))\\$\",\n",
    "                    c=:YlOrRd_9,\n",
    "                    # xscale=:log10\n",
    "                    )\n",
    "            )\n",
    "        end\n",
    "        \n",
    "        for (plot_arr, name) in zip([allplots_forw, allplots_FS, allplots_back, allplots_global], [\"forw\", \"onsite\", \"back\", \"global\"])\n",
    "            num_columns = div(length(plot_arr), length(W_val_range))\n",
    "            globalplot = plot(plot_arr..., layout=(length(W_val_range), num_columns), \n",
    "                size=(500*num_columns, 400*length(W_val_range)), \n",
    "                titlefontsize=10, topmargin=2mm, bottommargin=4mm, leftmargin=3mm, rightmargin=3mm,\n",
    "                thickness_scaling=1.5, xlabel=\"RG step\\$\\\\rightarrow\\$\", ylabel=\"\\$\\\\vec k_2\\$\", \n",
    "                plot_title=\"J: $(orbs[1])-wave, W: $(orbs[2])-wave\")\n",
    "            display(globalplot)\n",
    "            savefig(globalplot, \"fig$(name)_$(orbs).pdf\")\n",
    "        end\n",
    "    end\n",
    "end\n",
    "\n",
    "getRgFlow(20, 0.1, [0, -1])"
   ]
  },
  {
   "cell_type": "code",
   "execution_count": null,
   "id": "7ee0d4e3-aebb-40e6-93cc-7f7d9ec68662",
   "metadata": {},
   "outputs": [],
   "source": []
  }
 ],
 "metadata": {
  "kernelspec": {
   "display_name": "Julia 1.10.0",
   "language": "julia",
   "name": "julia-1.10"
  },
  "language_info": {
   "file_extension": ".jl",
   "mimetype": "application/julia",
   "name": "julia",
   "version": "1.10.0"
  },
  "vscode": {
   "interpreter": {
    "hash": "e7370f93d1d0cde622a1f8e1c04877d8463912d04d973331ad4851f04de6915a"
   }
  },
  "widgets": {
   "application/vnd.jupyter.widget-state+json": {
    "state": {},
    "version_major": 2,
    "version_minor": 0
   }
  }
 },
 "nbformat": 4,
 "nbformat_minor": 5
}
