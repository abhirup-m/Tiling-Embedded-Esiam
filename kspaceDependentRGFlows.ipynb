{
 "cells": [
  {
   "cell_type": "code",
   "execution_count": null,
   "id": "floating-capitol",
   "metadata": {
    "tags": []
   },
   "outputs": [],
   "source": [
    "#### IMPORTS ####\n",
    "using ProgressMeter\n",
    "using Plots\n",
    "theme(:ggplot2)"
   ]
  },
  {
   "cell_type": "code",
   "execution_count": null,
   "id": "1c0da4c0-4457-4de4-b33b-d67f9bba540c",
   "metadata": {},
   "outputs": [],
   "source": [
    "function dispersion(t, kx_arr, ky_arr)\n",
    "    kx_arr_flattened = repeat(kx_arr, inner=size(ky_arr))\n",
    "    ky_arr_flattened = repeat(ky_arr, outer=size(kx_arr))\n",
    "    return -2 * t .* (cos.(kx_arr_flattened) + cos.(ky_arr_flattened))\n",
    "end\n",
    "\n",
    "\n",
    "function getDOS(num_kspace, dispersionArray)\n",
    "    delta_k = 2 * pi / num_kspace\n",
    "    kspaceDos = 1 / delta_k\n",
    "    densityOfStates = zeros(num_kspace * num_kspace)\n",
    "    Threads.@threads for j in 0:num_kspace-1\n",
    "        for i in 1:num_kspace\n",
    "            E_xy = dispersionArray[j * num_kspace + i]\n",
    "            E_xpy = dispersionArray[j * num_kspace + i % num_kspace + 1]\n",
    "            E_xyp = dispersionArray[(j * num_kspace + num_kspace) % num_kspace^2 + i]\n",
    "            dE_xydk = sqrt((E_xpy - E_xy)^2 / delta_k^2\n",
    "                           + (E_xyp - E_xy)^2 / delta_k^2\n",
    "                           )\n",
    "            densityOfStates[j * num_kspace + i] = kspaceDos / dE_xydk\n",
    "        end\n",
    "    end\n",
    "    replace!(densityOfStates, Inf=>maximum(densityOfStates[densityOfStates .≠ Inf]))\n",
    "    return densityOfStates\n",
    "end\n",
    "\n",
    "\n",
    "function getContour(dispersionArray, num_kspace, energy)\n",
    "    contourPoints = [[] for j in 1:num_kspace]\n",
    "    Threads.@threads for j in 0:num_kspace-1\n",
    "        energyDiffArr = dispersionArray[j * num_kspace + 1: (j + 1) * num_kspace] .- energy\n",
    "        for i in 1:num_kspace\n",
    "            if energyDiffArr[i] * energyDiffArr[i % num_kspace + 1] <= 0\n",
    "                push!(contourPoints[j+1], j * num_kspace + i)\n",
    "            end\n",
    "        end\n",
    "    end\n",
    "    return collect(Iterators.flatten(contourPoints))\n",
    "end\n",
    "\n",
    "\n",
    "function getRenorm(args)\n",
    "    omega, k1, Ek1, k2_arr, Ek2_arr, cutoffPoints, energyCutoff, densityOfStates, kondoJArray, flags_k1_arr, deltaD = args\n",
    "    renormArr = zeros(size(k2_arr))\n",
    "    J_k1 = kondoJArray[k1,cutoffPoints]\n",
    "    for (index, (k2, Ek2)) in collect(enumerate(zip(k2_arr, Ek2_arr)))\n",
    "        J_k2 = kondoJArray[k2,cutoffPoints]\n",
    "        if flags_k1_arr[k2] == 0\n",
    "            continue\n",
    "        end\n",
    "        denominators = omega - abs(energyCutoff) / 2  - Ek1 / 2 - Ek2 / 2 .+ (J_k1 + J_k2) / 4\n",
    "        if ! all(<(0), denominators)\n",
    "            flags_k1_arr[k2] = 0\n",
    "        else\n",
    "            renormArr[index] = -sum(J_k1 .* J_k2 .* densityOfStates[cutoffPoints] * deltaD ./ denominators)\n",
    "        end\n",
    "    end\n",
    "    return k1, flags_k1_arr, renormArr\n",
    "end\n",
    "\n",
    "\n",
    "function main(num_kspace, t, J_init)\n",
    "    kx_arr = range(-pi, stop=pi, length=num_kspace)\n",
    "    ky_arr = copy(kx_arr)\n",
    "    dispersionArray = dispersion(t, kx_arr, ky_arr)\n",
    "    densityOfStates = getDOS(num_kspace, dispersionArray)\n",
    "\n",
    "    bandwidth = maximum(dispersionArray)\n",
    "    deltaD = bandwidth / (num_kspace - 1)\n",
    "    kondoJArray = Array{Float64}(undef, num_kspace^2, num_kspace^2, num_kspace)\n",
    "    kondoJArray[:,:,1] .= J_init\n",
    "    flags = fill(1, num_kspace^2, num_kspace^2)\n",
    "    # println(flags)\n",
    "    @showprogress for (stepIndex, energyCutoff) in collect(enumerate(range(bandwidth, stop=deltaD, step=-deltaD)))\n",
    "        kondoJArray[:,:,stepIndex+1] = kondoJArray[:,:,stepIndex]\n",
    "        cutoffPoints = getContour(dispersionArray, num_kspace, energyCutoff)\n",
    "        flags[cutoffPoints,:] .= 0\n",
    "        flags[:,cutoffPoints] .= 0\n",
    "        if all(==(0), flags)\n",
    "            break\n",
    "        end\n",
    "        omega = -energyCutoff/2\n",
    "        innerIndicesArr = (1:length(dispersionArray))[abs.(dispersionArray) .< energyCutoff]\n",
    "        innerEnergiesArr = dispersionArray[innerIndicesArr]\n",
    "        Threads.@threads for (k1, Ek1) in collect(zip(innerIndicesArr, innerEnergiesArr))\n",
    "            args = (omega, k1, Ek1, innerIndicesArr, innerEnergiesArr, \n",
    "                cutoffPoints, energyCutoff, densityOfStates, \n",
    "                kondoJArray[:,:,stepIndex], flags[k1,:], deltaD)\n",
    "            k1, flags_k1_arr, renormArr = getRenorm(args)\n",
    "            flags[k1,:] = flags_k1_arr\n",
    "            kondoJArray[k1,innerIndicesArr,stepIndex+1] += renormArr\n",
    "            kondoJArray[k1,innerIndicesArr,stepIndex+1][kondoJArray[k1,innerIndicesArr,stepIndex] .* kondoJArray[k1,innerIndicesArr,stepIndex+1] .< 0] .= 0\n",
    "        end\n",
    "    end\n",
    "    return kondoJArray, dispersionArray\n",
    "end"
   ]
  },
  {
   "cell_type": "code",
   "execution_count": null,
   "id": "4ff0606f-d3a2-43d2-9a12-8f403b18e299",
   "metadata": {},
   "outputs": [],
   "source": [
    "p = plot()\n",
    "num_kspace = 31\n",
    "t = 1\n",
    "@time kondoJArray, dispersionArray = main(num_kspace, t, 0.1);\n",
    "kFpoints = getContour(dispersionArray, num_kspace, t)[begin:30:end]\n",
    "k2points = getContour(dispersionArray, num_kspace, 0)[[10]]\n",
    "for (p1, p2) in Iterators.product(kFpoints, k2points)\n",
    "    plot!(kondoJArray[p1,p2,:], yaxis=:log, linewidth=2, thickness_scaling = 1.5)\n",
    "end\n",
    "display(p)"
   ]
  },
  {
   "cell_type": "code",
   "execution_count": null,
   "id": "bba5adb2-a1a5-4a73-9af0-d9334996c542",
   "metadata": {},
   "outputs": [],
   "source": []
  }
 ],
 "metadata": {
  "kernelspec": {
   "display_name": "Julia 1.10.0",
   "language": "julia",
   "name": "julia-1.10"
  },
  "language_info": {
   "file_extension": ".jl",
   "mimetype": "application/julia",
   "name": "julia",
   "version": "1.10.0"
  },
  "vscode": {
   "interpreter": {
    "hash": "e7370f93d1d0cde622a1f8e1c04877d8463912d04d973331ad4851f04de6915a"
   }
  },
  "widgets": {
   "application/vnd.jupyter.widget-state+json": {
    "state": {},
    "version_major": 2,
    "version_minor": 0
   }
  }
 },
 "nbformat": 4,
 "nbformat_minor": 5
}
