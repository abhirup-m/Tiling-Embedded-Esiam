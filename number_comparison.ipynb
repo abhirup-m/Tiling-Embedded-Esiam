{
 "metadata": {
  "language_info": {
   "codemirror_mode": {
    "name": "ipython",
    "version": 3
   },
   "file_extension": ".py",
   "mimetype": "text/x-python",
   "name": "python",
   "nbconvert_exporter": "python",
   "pygments_lexer": "ipython3",
   "version": "3.9.6-final"
  },
  "orig_nbformat": 2,
  "kernelspec": {
   "name": "python39264bitf680542ec57e4991a81294a547b5a1cb",
   "display_name": "Python 3.9.2 64-bit"
  }
 },
 "nbformat": 4,
 "nbformat_minor": 2,
 "cells": [
  {
   "cell_type": "code",
   "execution_count": 1,
   "metadata": {},
   "outputs": [],
   "source": [
    "import scipy.optimize\n",
    "from qutip import *\n",
    "from itertools import combinations,product\n",
    "import numpy as np\n",
    "from functools import partial\n",
    "import matplotlib\n",
    "from matplotlib import pyplot as plt\n",
    "from math import sqrt\n",
    "from multiprocessing import Pool\n",
    "from tqdm import tqdm\n",
    "from time import time\n",
    "font = {'size'   : 20}\n",
    "matplotlib.rc('font', **font)\n",
    "matplotlib.rcParams['text.usetex'] = True\n",
    "plt.rcParams[\"figure.figsize\"]= 8, 6\n",
    "plt.rcParams['figure.dpi'] = 70\n",
    "matplotlib.rcParams['lines.linewidth'] = 2\n",
    "plt.rcParams['axes.grid'] = True"
   ]
  },
  {
   "cell_type": "code",
   "execution_count": null,
   "metadata": {},
   "outputs": [],
   "source": []
  }
 ]
}